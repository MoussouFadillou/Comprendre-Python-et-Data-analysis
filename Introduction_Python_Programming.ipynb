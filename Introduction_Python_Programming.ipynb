{
  "nbformat": 4,
  "nbformat_minor": 0,
  "metadata": {
    "colab": {
      "name": "Introduction_Python_Programming.ipynb",
      "provenance": [],
      "collapsed_sections": []
    },
    "kernelspec": {
      "display_name": "Python 3",
      "language": "python",
      "name": "python3"
    },
    "language_info": {
      "codemirror_mode": {
        "name": "ipython",
        "version": 3
      },
      "file_extension": ".py",
      "mimetype": "text/x-python",
      "name": "python",
      "nbconvert_exporter": "python",
      "pygments_lexer": "ipython3",
      "version": "3.8.3"
    }
  },
  "cells": [
    {
      "cell_type": "markdown",
      "metadata": {
        "id": "XCG3PWNv4b7-"
      },
      "source": [
        "# **BootCamp Session: DAY 1**"
      ]
    },
    {
      "cell_type": "markdown",
      "metadata": {
        "id": "Rh8HCNQP4hnZ"
      },
      "source": [
        "## Today Session\n"
      ]
    },
    {
      "cell_type": "markdown",
      "metadata": {
        "id": "MkI_Egiy4zVh"
      },
      "source": [
        "## **Introduction to Python Programming**\n",
        "\n",
        "* Keywords\n",
        "* Variables and initialisations\n",
        "* Variable types and casting\n",
        "* Basic maths operation\n",
        "* Condition Statements\n",
        "* Pratice assignment\n",
        "\n"
      ]
    },
    {
      "cell_type": "code",
      "metadata": {
        "id": "SaYCJmpB8VQy"
      },
      "source": [
        "!python --version"
      ],
      "execution_count": null,
      "outputs": []
    },
    {
      "cell_type": "code",
      "metadata": {
        "colab": {
          "base_uri": "https://localhost:8080/"
        },
        "id": "uFu4ohze1SL7",
        "outputId": "88fcf917-e99a-4aa0-e39a-89884886a3d2"
      },
      "source": [
        "p1='(1,2)'\n",
        "p1=(p1[1],p1[3])\n",
        "print(p1)"
      ],
      "execution_count": null,
      "outputs": [
        {
          "output_type": "stream",
          "text": [
            "('1', '2')\n"
          ],
          "name": "stdout"
        }
      ]
    },
    {
      "cell_type": "markdown",
      "metadata": {
        "id": "xgaUUnox8VQ0"
      },
      "source": [
        "# **Keywords**\n",
        "\n",
        "The Python language reserves a small set of keywords that designate special language functionality. No object can have the same name as a reserved word.\n",
        "\n",
        "For example, in Python 3.6.9, there are 33 reserved keywords, You can see this list any time by typing **help(\"keywords\")** . They are all entirely lowercase, except for **False**, **None**, and **True**. \n",
        "Keywords must be used exactly as shown below. "
      ]
    },
    {
      "cell_type": "code",
      "metadata": {
        "id": "dh1YQ_no8VQ0",
        "colab": {
          "base_uri": "https://localhost:8080/"
        },
        "outputId": "1f658081-f129-4ac0-85ef-ace373c8cde2"
      },
      "source": [
        "help(\"keywords\")"
      ],
      "execution_count": null,
      "outputs": [
        {
          "output_type": "stream",
          "text": [
            "\n",
            "Here is a list of the Python keywords.  Enter any keyword to get more help.\n",
            "\n",
            "False               def                 if                  raise\n",
            "None                del                 import              return\n",
            "True                elif                in                  try\n",
            "and                 else                is                  while\n",
            "as                  except              lambda              with\n",
            "assert              finally             nonlocal            yield\n",
            "break               for                 not                 \n",
            "class               from                or                  \n",
            "continue            global              pass                \n",
            "\n"
          ],
          "name": "stdout"
        }
      ]
    },
    {
      "cell_type": "markdown",
      "metadata": {
        "id": "GKJ9TTDNkFLY"
      },
      "source": [
        "# **Variables and initialisations**\n",
        "\n",
        "Variables are containers for storing data values that your program may need to refer to that value throughout your code.\n",
        "\n",
        "\n",
        "They are important for two reasons:\n",
        "\n",
        "> 1. **Variables keep values accessible**: If for exemple we want to perform a computation in our code that will be used multiple time, we can just store the result into a variable so that we will not need to repeat the same operation each time.\n",
        "> 2. **Variables give values context**: Given the number 41, it can mean the number of students, tables or chairs in the classroom. Assigning the value to a specific variable like number_of_students = 41 will give a meaning to it."
      ]
    },
    {
      "cell_type": "markdown",
      "metadata": {
        "id": "cOW5ETv58VQ1"
      },
      "source": [
        "## **Creating variables**\n",
        "\n",
        "A variable is created the moment you first assign a value to it. In python, variables don't need to be declared with any particular type,  Python will find it on its own."
      ]
    },
    {
      "cell_type": "code",
      "metadata": {
        "id": "xbIphCYD4Yot",
        "colab": {
          "base_uri": "https://localhost:8080/"
        },
        "outputId": "b7445abf-2ec1-4656-bc3c-5e7e875fa0c8"
      },
      "source": [
        "#assignment operator (=)\n",
        "a = 10\n",
        "print('Value of a is: ', a)"
      ],
      "execution_count": null,
      "outputs": [
        {
          "output_type": "stream",
          "text": [
            "Value of a is:  10\n"
          ],
          "name": "stdout"
        }
      ]
    },
    {
      "cell_type": "markdown",
      "metadata": {
        "id": "9vRhIVm79SOg"
      },
      "source": [
        "Now if i call a in my Python script, Python will treat it as the number 1.\n",
        "We can use the .format() method to add formatted objects to printed variables."
      ]
    },
    {
      "cell_type": "code",
      "metadata": {
        "id": "TzGsQzbkkMW_",
        "colab": {
          "base_uri": "https://localhost:8080/"
        },
        "outputId": "e33df23f-d174-415d-9fd2-2b0f0a30bd22"
      },
      "source": [
        "b = 2.0\n",
        "print('a = {}, and b = {}'.format(a, b))"
      ],
      "execution_count": null,
      "outputs": [
        {
          "output_type": "stream",
          "text": [
            "a = 10, and b = 2.0\n"
          ],
          "name": "stdout"
        }
      ]
    },
    {
      "cell_type": "code",
      "metadata": {
        "id": "y3EC98xAkT43",
        "colab": {
          "base_uri": "https://localhost:8080/"
        },
        "outputId": "43b39aa2-7958-41ca-d5ce-779acdaef90f"
      },
      "source": [
        "c = 'hello word'\n",
        "print('Value of c is : {}'.format(c))"
      ],
      "execution_count": null,
      "outputs": [
        {
          "output_type": "stream",
          "text": [
            "Value of c is : hello word\n"
          ],
          "name": "stdout"
        }
      ]
    },
    {
      "cell_type": "markdown",
      "metadata": {
        "id": "esjjE07k9SOi"
      },
      "source": [
        "What happens on reassignment? Will Python let us write it over?"
      ]
    },
    {
      "cell_type": "code",
      "metadata": {
        "id": "GkFiZFDB9SOj",
        "colab": {
          "base_uri": "https://localhost:8080/"
        },
        "outputId": "afe3485c-0142-4665-8d91-344cdaa8891a"
      },
      "source": [
        "a = 12 #reassignment\n",
        "a"
      ],
      "execution_count": null,
      "outputs": [
        {
          "output_type": "execute_result",
          "data": {
            "text/plain": [
              "12"
            ]
          },
          "metadata": {
            "tags": []
          },
          "execution_count": 8
        }
      ]
    },
    {
      "cell_type": "code",
      "metadata": {
        "id": "Zojg9guX9SOj",
        "colab": {
          "base_uri": "https://localhost:8080/"
        },
        "outputId": "5b88b501-60a2-4687-f928-6550674c023a"
      },
      "source": [
        "a = a + 10 #reassignment using the same variable\n",
        "a"
      ],
      "execution_count": null,
      "outputs": [
        {
          "output_type": "execute_result",
          "data": {
            "text/plain": [
              "22"
            ]
          },
          "metadata": {
            "tags": []
          },
          "execution_count": 9
        }
      ]
    },
    {
      "cell_type": "markdown",
      "metadata": {
        "id": "NcKGX3hq8VQ3"
      },
      "source": [
        "## **Rules for valid variable names**\n",
        "\n",
        "For variable names convention there are a\n",
        "few rules that you must follow. Variable names may contain **uppercase** and **lowercase letters** (A–Z, a–z), **digits** (0–9), and **underscores**\n",
        "(_), but they cannot begin with a digit.\n",
        "\n",
        "However it's considered best pratice that names are lowercase.\n",
        "\n",
        "**Avoid using words that have special meaning in Python like int and str**\n",
        "\n",
        "For example, each of the following is a valid Python variable name:\n",
        "\n",
        "> **variable1**\n",
        "\n",
        "> **_a1p4a**\n",
        "\n",
        "> **list_of_names**\n",
        "\n",
        "invalid python variable name:\n",
        "\n",
        "> **2myvar = 2**\n",
        "\n",
        "> **my-var = 4**\n",
        "\n",
        "> **my var = 6**\n",
        "\n",
        "If a variable is composed by multiple words, we commonly write them in\n",
        "lower_case_with_underscores( number_of_students). Variable names are case-sensitive (**name**, **Name** and **NAME** are three different variables)\n"
      ]
    },
    {
      "cell_type": "code",
      "metadata": {
        "colab": {
          "base_uri": "https://localhost:8080/",
          "height": 131
        },
        "id": "7t-txcJHUMoV",
        "outputId": "5e59c97f-a574-4154-ed78-aaeefaadc155"
      },
      "source": [
        "my var = 2"
      ],
      "execution_count": null,
      "outputs": [
        {
          "output_type": "error",
          "ename": "SyntaxError",
          "evalue": "ignored",
          "traceback": [
            "\u001b[0;36m  File \u001b[0;32m\"<ipython-input-11-f914c38ceae5>\"\u001b[0;36m, line \u001b[0;32m1\u001b[0m\n\u001b[0;31m    my var = 2\u001b[0m\n\u001b[0m         ^\u001b[0m\n\u001b[0;31mSyntaxError\u001b[0m\u001b[0;31m:\u001b[0m invalid syntax\n"
          ]
        }
      ]
    },
    {
      "cell_type": "markdown",
      "metadata": {
        "id": "FOPYRmWK8VQ3"
      },
      "source": [
        "# **Variables Types and Casting**"
      ]
    },
    {
      "cell_type": "markdown",
      "metadata": {
        "id": "s4s_ENEo71UC"
      },
      "source": [
        "## **Built-in Data Type**\n",
        "\n",
        "In programming, data type is an important concept. Variables can store data of different types, and different types can do different things.\n",
        "\n",
        "The common data types include:\n",
        "\n",
        "> **Text Type:\tstr**\n",
        "\n",
        "> **Numeric Types:\tint, float, complex**\n",
        "\n",
        "> **Sequence Types:\tlist, tuple, range**\n",
        "\n",
        "> **Mapping Type:\tdict**\n",
        "\n",
        "> **Set Types:\tset**\n",
        "\n",
        "> **Boolean Type:\tbool**\n"
      ]
    },
    {
      "cell_type": "markdown",
      "metadata": {
        "id": "YRkU-YFV8VQ3"
      },
      "source": [
        "## **Get the type**\n",
        "\n",
        "You can the data type of a variable with the **type()** function."
      ]
    },
    {
      "cell_type": "code",
      "metadata": {
        "id": "OZ_NH0mt8VQ3",
        "colab": {
          "base_uri": "https://localhost:8080/"
        },
        "outputId": "3cbea537-f8fb-4b82-f1d5-7db5234515f1"
      },
      "source": [
        "print('Type of a: ', type(a))\n",
        "print('Type of b: ', type(b))\n",
        "print('Type of c: ', type(c))"
      ],
      "execution_count": null,
      "outputs": [
        {
          "output_type": "stream",
          "text": [
            "Type of a:  <class 'int'>\n",
            "Type of b:  <class 'float'>\n",
            "Type of c:  <class 'str'>\n"
          ],
          "name": "stdout"
        }
      ]
    },
    {
      "cell_type": "code",
      "metadata": {
        "id": "Fe-06gI58VQ4",
        "colab": {
          "base_uri": "https://localhost:8080/"
        },
        "outputId": "d67d13b6-7dd9-4f75-f3f9-dc201a31e1a2"
      },
      "source": [
        "isinstance(a, float) #check if a has a specific type"
      ],
      "execution_count": null,
      "outputs": [
        {
          "output_type": "execute_result",
          "data": {
            "text/plain": [
              "False"
            ]
          },
          "metadata": {
            "tags": []
          },
          "execution_count": 13
        }
      ]
    },
    {
      "cell_type": "markdown",
      "metadata": {
        "id": "OIIAKxUHAx0O"
      },
      "source": [
        "### **Int**\n",
        "\n",
        "Int, or integer, is a whole number, positive or negative, without decimals, of unlimited length."
      ]
    },
    {
      "cell_type": "code",
      "metadata": {
        "id": "yo6DaOqBA8e7",
        "colab": {
          "base_uri": "https://localhost:8080/"
        },
        "outputId": "4eac669e-06df-4105-d76f-8e1f4bee5907"
      },
      "source": [
        "x = 1\n",
        "y = 35656222554887711\n",
        "z = -3255522\n",
        "\n",
        "print(type(x))\n",
        "print(type(y))\n",
        "print(type(z))"
      ],
      "execution_count": null,
      "outputs": [
        {
          "output_type": "stream",
          "text": [
            "<class 'int'>\n",
            "<class 'int'>\n",
            "<class 'int'>\n"
          ],
          "name": "stdout"
        }
      ]
    },
    {
      "cell_type": "markdown",
      "metadata": {
        "id": "kosmjqBYBJdT"
      },
      "source": [
        "### **Float**\n",
        "\n",
        "Float, or \"floating point number\" is a number, positive or negative, containing one or more decimals.\n",
        "\n"
      ]
    },
    {
      "cell_type": "code",
      "metadata": {
        "id": "-HQ1wVvXBBkg"
      },
      "source": [
        "x = 1.10\n",
        "y = 1.0\n",
        "z = -35.59\n",
        "\n",
        "print(type(x))\n",
        "print(type(y))\n",
        "print(type(z))"
      ],
      "execution_count": null,
      "outputs": []
    },
    {
      "cell_type": "markdown",
      "metadata": {
        "id": "BxYqJgQmBVlx"
      },
      "source": [
        "Float can also be scientific numbers with an \"e\" to indicate the power of 10.\n",
        "\n"
      ]
    },
    {
      "cell_type": "code",
      "metadata": {
        "id": "o1cj9IlHBQgu",
        "colab": {
          "base_uri": "https://localhost:8080/"
        },
        "outputId": "ba1cdd83-ebf2-43b1-b0e3-64c94de3f7fa"
      },
      "source": [
        "x = 35e3\n",
        "y = 12E4\n",
        "z = -87.7e100\n",
        "\n",
        "print(type(x))\n",
        "print(type(y))\n",
        "print(type(z))"
      ],
      "execution_count": null,
      "outputs": [
        {
          "output_type": "stream",
          "text": [
            "<class 'float'>\n",
            "<class 'float'>\n",
            "<class 'float'>\n"
          ],
          "name": "stdout"
        }
      ]
    },
    {
      "cell_type": "code",
      "metadata": {
        "id": "rI9hJISDkxpr",
        "colab": {
          "base_uri": "https://localhost:8080/"
        },
        "outputId": "b3a6a683-807b-4a03-e2b9-098d556e7e10"
      },
      "source": [
        "print(type(a + 0.0)) # how it is done (casting?)"
      ],
      "execution_count": null,
      "outputs": [
        {
          "output_type": "stream",
          "text": [
            "<class 'float'>\n"
          ],
          "name": "stdout"
        }
      ]
    },
    {
      "cell_type": "markdown",
      "metadata": {
        "id": "-Ed3XaFzCz1U"
      },
      "source": [
        "### **Strings**\n",
        "\n",
        "Strings are sequence of letters in a specific order. Meaning that we can use indexing to access a specific character in a string.\n",
        "\n",
        "In python, they are surrounded by either single quotation marks, or double quotation marks.\n",
        "\n",
        "**'hello'** is the same as **\"hello\"**.\n",
        "\n",
        "You can display a string literal with the print() function:"
      ]
    },
    {
      "cell_type": "code",
      "metadata": {
        "id": "RFtqKpuQCzQQ",
        "colab": {
          "base_uri": "https://localhost:8080/"
        },
        "outputId": "4b9275ea-5ca0-4724-8767-b2ad31e9a6e1"
      },
      "source": [
        "print(\"This is a string\")\n",
        "print('This is a string')"
      ],
      "execution_count": null,
      "outputs": [
        {
          "output_type": "stream",
          "text": [
            "This is a string\n",
            "This is a string\n"
          ],
          "name": "stdout"
        }
      ]
    },
    {
      "cell_type": "markdown",
      "metadata": {
        "id": "fsNlA_jq9SOn"
      },
      "source": [
        "We can also directly create a string in a cell, it will automatically output strings."
      ]
    },
    {
      "cell_type": "code",
      "metadata": {
        "id": "BYgnQeYi9SOn",
        "colab": {
          "base_uri": "https://localhost:8080/",
          "height": 131
        },
        "outputId": "306256bd-72be-4092-cf62-fb477af78235"
      },
      "source": [
        "# Be careful with quotes!\n",
        "'I'm using single quotes, but this will create an error'"
      ],
      "execution_count": null,
      "outputs": [
        {
          "output_type": "error",
          "ename": "SyntaxError",
          "evalue": "ignored",
          "traceback": [
            "\u001b[0;36m  File \u001b[0;32m\"<ipython-input-18-d4e01b799727>\"\u001b[0;36m, line \u001b[0;32m2\u001b[0m\n\u001b[0;31m    'I'm using single quotes, but this will create an error'\u001b[0m\n\u001b[0m       ^\u001b[0m\n\u001b[0;31mSyntaxError\u001b[0m\u001b[0;31m:\u001b[0m invalid syntax\n"
          ]
        }
      ]
    },
    {
      "cell_type": "markdown",
      "metadata": {
        "id": "s-r5dIcq9SOn"
      },
      "source": [
        "The reason for the error above is because the single quote in I'm stopped the string. You can use combinations of double and single quotes to get the complete statement."
      ]
    },
    {
      "cell_type": "code",
      "metadata": {
        "id": "gk-x5U819SOn"
      },
      "source": [
        "\"Now I'm ready to use the single quotes inside a string!\""
      ],
      "execution_count": null,
      "outputs": []
    },
    {
      "cell_type": "code",
      "metadata": {
        "id": "05vw7TVD5YzW"
      },
      "source": [
        "# Another alternative using backslash!\n",
        "'I\\'m using single quotes, but this will create an error'"
      ],
      "execution_count": null,
      "outputs": []
    },
    {
      "cell_type": "code",
      "metadata": {
        "id": "x8JwmTUQHAU-"
      },
      "source": [
        "sentence = \"I'm a beginner in Python Programming Language.\""
      ],
      "execution_count": null,
      "outputs": []
    },
    {
      "cell_type": "markdown",
      "metadata": {
        "id": "kia3CxyR9SOn"
      },
      "source": [
        "#### String Basics\n",
        "We can also perform some operations on string: "
      ]
    },
    {
      "cell_type": "code",
      "metadata": {
        "id": "tNVpjeTSHAQ7",
        "colab": {
          "base_uri": "https://localhost:8080/"
        },
        "outputId": "2085a8b0-77d5-4fe9-f4b6-ba34606003a3"
      },
      "source": [
        "len(sentence ) # Get the length of a string"
      ],
      "execution_count": null,
      "outputs": [
        {
          "output_type": "execute_result",
          "data": {
            "text/plain": [
              "46"
            ]
          },
          "metadata": {
            "tags": []
          },
          "execution_count": 20
        }
      ]
    },
    {
      "cell_type": "markdown",
      "metadata": {
        "id": "sz9HrRB69SOp"
      },
      "source": [
        "len() function counts all of the characters in the string, including spaces and ponctuation."
      ]
    },
    {
      "cell_type": "markdown",
      "metadata": {
        "id": "ppbOpzyE9SOp"
      },
      "source": [
        "#### String Indexing"
      ]
    },
    {
      "cell_type": "code",
      "metadata": {
        "id": "geDv3zN3HAOI"
      },
      "source": [
        "sentence[47] # Get the character at position 0"
      ],
      "execution_count": null,
      "outputs": []
    },
    {
      "cell_type": "markdown",
      "metadata": {
        "id": "eClyGGKE9SOp"
      },
      "source": [
        "We can use a : to perform **slicing** which grabs everything up to a designated point. \n",
        "\n",
        "For example:"
      ]
    },
    {
      "cell_type": "code",
      "metadata": {
        "id": "aVLhCdaHHyNJ",
        "colab": {
          "base_uri": "https://localhost:8080/",
          "height": 35
        },
        "outputId": "5aba571f-760e-4643-8f9a-ac35731b88b3"
      },
      "source": [
        "sentence[0:3] #Get the 3 first characters\n"
      ],
      "execution_count": null,
      "outputs": [
        {
          "output_type": "execute_result",
          "data": {
            "application/vnd.google.colaboratory.intrinsic+json": {
              "type": "string"
            },
            "text/plain": [
              "\"I'm\""
            ]
          },
          "metadata": {
            "tags": []
          },
          "execution_count": 24
        }
      ]
    },
    {
      "cell_type": "markdown",
      "metadata": {
        "id": "uZRXCera9SOq"
      },
      "source": [
        "Here we're telling Python to grab everything from 0 up to 3. It doesn't include the 3rd index. You'll notice this a lot in Python, where statements are usually in the context of \"up to, but not including\"."
      ]
    },
    {
      "cell_type": "code",
      "metadata": {
        "id": "mrOgIzJc9SOq",
        "colab": {
          "base_uri": "https://localhost:8080/",
          "height": 35
        },
        "outputId": "9a8713d5-2ba6-4c7f-d393-407cb71c619a"
      },
      "source": [
        "sentence[:]"
      ],
      "execution_count": null,
      "outputs": [
        {
          "output_type": "execute_result",
          "data": {
            "application/vnd.google.colaboratory.intrinsic+json": {
              "type": "string"
            },
            "text/plain": [
              "\"I'm a beginner in Python Programming Language.\""
            ]
          },
          "metadata": {
            "tags": []
          },
          "execution_count": 25
        }
      ]
    },
    {
      "cell_type": "markdown",
      "metadata": {
        "id": "Q1jugnEi9SOq"
      },
      "source": [
        "We can also use negative indexing to go backwards."
      ]
    },
    {
      "cell_type": "code",
      "metadata": {
        "id": "xXlWiAyE9SOr",
        "colab": {
          "base_uri": "https://localhost:8080/",
          "height": 35
        },
        "outputId": "d18577e6-bfd4-40ba-b4f7-66804ef8018c"
      },
      "source": [
        "sentence[-1] # Last letter (one index behind 0 so it loops back around)\n"
      ],
      "execution_count": null,
      "outputs": [
        {
          "output_type": "execute_result",
          "data": {
            "application/vnd.google.colaboratory.intrinsic+json": {
              "type": "string"
            },
            "text/plain": [
              "'.'"
            ]
          },
          "metadata": {
            "tags": []
          },
          "execution_count": 26
        }
      ]
    },
    {
      "cell_type": "code",
      "metadata": {
        "id": "h7TMx77CIBBn",
        "colab": {
          "base_uri": "https://localhost:8080/",
          "height": 35
        },
        "outputId": "1c16998c-3ac4-431d-e9e4-5b527f221ef2"
      },
      "source": [
        "sentence[:-1] #Grap everything but leave out the last character"
      ],
      "execution_count": null,
      "outputs": [
        {
          "output_type": "execute_result",
          "data": {
            "application/vnd.google.colaboratory.intrinsic+json": {
              "type": "string"
            },
            "text/plain": [
              "\"I'm a beginner in Python Programming Language\""
            ]
          },
          "metadata": {
            "tags": []
          },
          "execution_count": 27
        }
      ]
    },
    {
      "cell_type": "code",
      "metadata": {
        "id": "XazDuDUCINYF",
        "colab": {
          "base_uri": "https://localhost:8080/",
          "height": 35
        },
        "outputId": "93ffcbf2-d85c-461e-b82b-9d209b9ae25b"
      },
      "source": [
        "sentence[-4:] # Get the 4 last characters"
      ],
      "execution_count": null,
      "outputs": [
        {
          "output_type": "execute_result",
          "data": {
            "application/vnd.google.colaboratory.intrinsic+json": {
              "type": "string"
            },
            "text/plain": [
              "'age.'"
            ]
          },
          "metadata": {
            "tags": []
          },
          "execution_count": 28
        }
      ]
    },
    {
      "cell_type": "markdown",
      "metadata": {
        "id": "c4qTL5b09SOr"
      },
      "source": [
        "We can also use index and slice notation to grab elements of a sequence by a specified step size (the default is 1). For instance we can use two colons in a row and then a number specifying the frequency to grab elements. For example:"
      ]
    },
    {
      "cell_type": "code",
      "metadata": {
        "id": "2VDYN5hf9SOr",
        "colab": {
          "base_uri": "https://localhost:8080/",
          "height": 35
        },
        "outputId": "b5f71241-b756-4e13-9bdc-bf774a48f6e1"
      },
      "source": [
        "# Grab everything, but go in steps size of 1\n",
        "sentence[::1]"
      ],
      "execution_count": null,
      "outputs": [
        {
          "output_type": "execute_result",
          "data": {
            "application/vnd.google.colaboratory.intrinsic+json": {
              "type": "string"
            },
            "text/plain": [
              "\"I'm a beginner in Python Programming Language.\""
            ]
          },
          "metadata": {
            "tags": []
          },
          "execution_count": 29
        }
      ]
    },
    {
      "cell_type": "code",
      "metadata": {
        "id": "d5BvPS_39SOs",
        "colab": {
          "base_uri": "https://localhost:8080/",
          "height": 35
        },
        "outputId": "ca282363-3cbb-40c3-d248-cf783bfbfc64"
      },
      "source": [
        "# Grab everything, but go in steps size of 2\n",
        "sentence[::2]"
      ],
      "execution_count": null,
      "outputs": [
        {
          "output_type": "execute_result",
          "data": {
            "application/vnd.google.colaboratory.intrinsic+json": {
              "type": "string"
            },
            "text/plain": [
              "'Imabgne nPto rgamn agae'"
            ]
          },
          "metadata": {
            "tags": []
          },
          "execution_count": 31
        }
      ]
    },
    {
      "cell_type": "code",
      "metadata": {
        "id": "CK1wBr359SOs",
        "colab": {
          "base_uri": "https://localhost:8080/",
          "height": 35
        },
        "outputId": "01075240-0182-40d2-da6f-fe2318e36406"
      },
      "source": [
        "# We can use this to print a string backwards\n",
        "sentence[::-1]"
      ],
      "execution_count": null,
      "outputs": [
        {
          "output_type": "execute_result",
          "data": {
            "application/vnd.google.colaboratory.intrinsic+json": {
              "type": "string"
            },
            "text/plain": [
              "\".egaugnaL gnimmargorP nohtyP ni rennigeb a m'I\""
            ]
          },
          "metadata": {
            "tags": []
          },
          "execution_count": 32
        }
      ]
    },
    {
      "cell_type": "markdown",
      "metadata": {
        "id": "JuQ7zAqf9SOs"
      },
      "source": [
        "**Note that there will be no changes to the original variable.**"
      ]
    },
    {
      "cell_type": "markdown",
      "metadata": {
        "id": "DqMBCZk-9SOt"
      },
      "source": [
        "#### String Properties¶\n",
        "It's important to note that strings have an important property known as immutability. This means that once a string is created, the elements within it can not be changed or replaced. For example:"
      ]
    },
    {
      "cell_type": "code",
      "metadata": {
        "id": "geg4COCKD-qM"
      },
      "source": [
        "sentence[0] = 'H'"
      ],
      "execution_count": null,
      "outputs": []
    },
    {
      "cell_type": "markdown",
      "metadata": {
        "id": "FMUyPfrI9SOt"
      },
      "source": [
        "Notice how the error tells us directly what we can't do, change the item assignment!\n",
        "\n",
        "Something we can do is concatenate strings!"
      ]
    },
    {
      "cell_type": "code",
      "metadata": {
        "id": "W3O9koi2Itv3",
        "colab": {
          "base_uri": "https://localhost:8080/",
          "height": 35
        },
        "outputId": "9bdf237e-9969-46f6-c22d-124e8e4386eb"
      },
      "source": [
        "sentence + ' Concatenate me!'"
      ],
      "execution_count": null,
      "outputs": [
        {
          "output_type": "execute_result",
          "data": {
            "application/vnd.google.colaboratory.intrinsic+json": {
              "type": "string"
            },
            "text/plain": [
              "\"I'm a beginner in Python Programming Language. Concatenate me!\""
            ]
          },
          "metadata": {
            "tags": []
          },
          "execution_count": 34
        }
      ]
    },
    {
      "cell_type": "code",
      "metadata": {
        "id": "0HQgGQ1X9SOt",
        "colab": {
          "base_uri": "https://localhost:8080/",
          "height": 35
        },
        "outputId": "f467271c-7325-4ae2-c8f2-097c4fbfc27d"
      },
      "source": [
        "sentence = sentence + ' Concatenate me!' #We can reassign statement completly\n",
        "sentence"
      ],
      "execution_count": null,
      "outputs": [
        {
          "output_type": "execute_result",
          "data": {
            "application/vnd.google.colaboratory.intrinsic+json": {
              "type": "string"
            },
            "text/plain": [
              "\"I'm a beginner in Python Programming Language. Concatenate me!\""
            ]
          },
          "metadata": {
            "tags": []
          },
          "execution_count": 35
        }
      ]
    },
    {
      "cell_type": "markdown",
      "metadata": {
        "id": "hit9qCAg9SOt"
      },
      "source": [
        "We can use the multiplication symbol to create repetition."
      ]
    },
    {
      "cell_type": "code",
      "metadata": {
        "id": "jwpY74Qn9SOu",
        "colab": {
          "base_uri": "https://localhost:8080/",
          "height": 52
        },
        "outputId": "fbeed4d4-8165-4bd1-b3ae-8c131175b8ad"
      },
      "source": [
        "letter = 'a'\n",
        "print(letter)\n",
        "letter*10"
      ],
      "execution_count": null,
      "outputs": [
        {
          "output_type": "stream",
          "text": [
            "a\n"
          ],
          "name": "stdout"
        },
        {
          "output_type": "execute_result",
          "data": {
            "application/vnd.google.colaboratory.intrinsic+json": {
              "type": "string"
            },
            "text/plain": [
              "'aaaaaaaaaa'"
            ]
          },
          "metadata": {
            "tags": []
          },
          "execution_count": 36
        }
      ]
    },
    {
      "cell_type": "markdown",
      "metadata": {
        "id": "sQWeiky09SOu"
      },
      "source": [
        "#### Basic Built-in String \n",
        "Strings has built-in function that can perform actions or commands on a string.\n",
        "\n",
        "Some examples of built-in methods are:"
      ]
    },
    {
      "cell_type": "code",
      "metadata": {
        "id": "ouCYpnEF9SOu",
        "colab": {
          "base_uri": "https://localhost:8080/",
          "height": 35
        },
        "outputId": "e8a43859-ad93-41e1-c8f3-10067988c387"
      },
      "source": [
        "#Upper case\n",
        "sentence.upper()"
      ],
      "execution_count": null,
      "outputs": [
        {
          "output_type": "execute_result",
          "data": {
            "application/vnd.google.colaboratory.intrinsic+json": {
              "type": "string"
            },
            "text/plain": [
              "\"I'M A BEGINNER IN PYTHON PROGRAMMING LANGUAGE. CONCATENATE ME!\""
            ]
          },
          "metadata": {
            "tags": []
          },
          "execution_count": 37
        }
      ]
    },
    {
      "cell_type": "code",
      "metadata": {
        "id": "w1B3UjPQ9SOu",
        "colab": {
          "base_uri": "https://localhost:8080/",
          "height": 35
        },
        "outputId": "b7540605-ceaa-4429-b189-af2cef5447d5"
      },
      "source": [
        "#lower case\n",
        "sentence.lower()"
      ],
      "execution_count": null,
      "outputs": [
        {
          "output_type": "execute_result",
          "data": {
            "application/vnd.google.colaboratory.intrinsic+json": {
              "type": "string"
            },
            "text/plain": [
              "\"i'm a beginner in python programming language. concatenate me!\""
            ]
          },
          "metadata": {
            "tags": []
          },
          "execution_count": 38
        }
      ]
    },
    {
      "cell_type": "code",
      "metadata": {
        "id": "9WejK1kz9SOu",
        "colab": {
          "base_uri": "https://localhost:8080/"
        },
        "outputId": "6924e381-b2d8-41a7-f9c1-00a8927441fb"
      },
      "source": [
        "# Split a string by blank space (this is the default)\n",
        "sentence.split()"
      ],
      "execution_count": null,
      "outputs": [
        {
          "output_type": "execute_result",
          "data": {
            "text/plain": [
              "[\"I'm\",\n",
              " 'a',\n",
              " 'beginner',\n",
              " 'in',\n",
              " 'Python',\n",
              " 'Programming',\n",
              " 'Language.',\n",
              " 'Concatenate',\n",
              " 'me!']"
            ]
          },
          "metadata": {
            "tags": []
          },
          "execution_count": 39
        }
      ]
    },
    {
      "cell_type": "code",
      "metadata": {
        "id": "QK7E0yWa9SOv",
        "colab": {
          "base_uri": "https://localhost:8080/"
        },
        "outputId": "6660f8ec-a471-4b23-be48-c2b43cf044fc"
      },
      "source": [
        "# Split by a specific element (doesn't include the element that was split on)\n",
        "sentence.split(\".\")"
      ],
      "execution_count": null,
      "outputs": [
        {
          "output_type": "execute_result",
          "data": {
            "text/plain": [
              "[\"I'm a beginner in Python Programming Language\", ' Concatenate me!']"
            ]
          },
          "metadata": {
            "tags": []
          },
          "execution_count": 40
        }
      ]
    },
    {
      "cell_type": "code",
      "metadata": {
        "id": "ISodSRLe9SOv",
        "colab": {
          "base_uri": "https://localhost:8080/"
        },
        "outputId": "5d27d1bd-cb2b-4627-f25f-1e31ea33844a"
      },
      "source": [
        "help(str) # for others built-in function"
      ],
      "execution_count": null,
      "outputs": [
        {
          "output_type": "stream",
          "text": [
            "Help on class str in module builtins:\n",
            "\n",
            "class str(object)\n",
            " |  str(object='') -> str\n",
            " |  str(bytes_or_buffer[, encoding[, errors]]) -> str\n",
            " |  \n",
            " |  Create a new string object from the given object. If encoding or\n",
            " |  errors is specified, then the object must expose a data buffer\n",
            " |  that will be decoded using the given encoding and error handler.\n",
            " |  Otherwise, returns the result of object.__str__() (if defined)\n",
            " |  or repr(object).\n",
            " |  encoding defaults to sys.getdefaultencoding().\n",
            " |  errors defaults to 'strict'.\n",
            " |  \n",
            " |  Methods defined here:\n",
            " |  \n",
            " |  __add__(self, value, /)\n",
            " |      Return self+value.\n",
            " |  \n",
            " |  __contains__(self, key, /)\n",
            " |      Return key in self.\n",
            " |  \n",
            " |  __eq__(self, value, /)\n",
            " |      Return self==value.\n",
            " |  \n",
            " |  __format__(...)\n",
            " |      S.__format__(format_spec) -> str\n",
            " |      \n",
            " |      Return a formatted version of S as described by format_spec.\n",
            " |  \n",
            " |  __ge__(self, value, /)\n",
            " |      Return self>=value.\n",
            " |  \n",
            " |  __getattribute__(self, name, /)\n",
            " |      Return getattr(self, name).\n",
            " |  \n",
            " |  __getitem__(self, key, /)\n",
            " |      Return self[key].\n",
            " |  \n",
            " |  __getnewargs__(...)\n",
            " |  \n",
            " |  __gt__(self, value, /)\n",
            " |      Return self>value.\n",
            " |  \n",
            " |  __hash__(self, /)\n",
            " |      Return hash(self).\n",
            " |  \n",
            " |  __iter__(self, /)\n",
            " |      Implement iter(self).\n",
            " |  \n",
            " |  __le__(self, value, /)\n",
            " |      Return self<=value.\n",
            " |  \n",
            " |  __len__(self, /)\n",
            " |      Return len(self).\n",
            " |  \n",
            " |  __lt__(self, value, /)\n",
            " |      Return self<value.\n",
            " |  \n",
            " |  __mod__(self, value, /)\n",
            " |      Return self%value.\n",
            " |  \n",
            " |  __mul__(self, value, /)\n",
            " |      Return self*value.\n",
            " |  \n",
            " |  __ne__(self, value, /)\n",
            " |      Return self!=value.\n",
            " |  \n",
            " |  __new__(*args, **kwargs) from builtins.type\n",
            " |      Create and return a new object.  See help(type) for accurate signature.\n",
            " |  \n",
            " |  __repr__(self, /)\n",
            " |      Return repr(self).\n",
            " |  \n",
            " |  __rmod__(self, value, /)\n",
            " |      Return value%self.\n",
            " |  \n",
            " |  __rmul__(self, value, /)\n",
            " |      Return value*self.\n",
            " |  \n",
            " |  __sizeof__(...)\n",
            " |      S.__sizeof__() -> size of S in memory, in bytes\n",
            " |  \n",
            " |  __str__(self, /)\n",
            " |      Return str(self).\n",
            " |  \n",
            " |  capitalize(...)\n",
            " |      S.capitalize() -> str\n",
            " |      \n",
            " |      Return a capitalized version of S, i.e. make the first character\n",
            " |      have upper case and the rest lower case.\n",
            " |  \n",
            " |  casefold(...)\n",
            " |      S.casefold() -> str\n",
            " |      \n",
            " |      Return a version of S suitable for caseless comparisons.\n",
            " |  \n",
            " |  center(...)\n",
            " |      S.center(width[, fillchar]) -> str\n",
            " |      \n",
            " |      Return S centered in a string of length width. Padding is\n",
            " |      done using the specified fill character (default is a space)\n",
            " |  \n",
            " |  count(...)\n",
            " |      S.count(sub[, start[, end]]) -> int\n",
            " |      \n",
            " |      Return the number of non-overlapping occurrences of substring sub in\n",
            " |      string S[start:end].  Optional arguments start and end are\n",
            " |      interpreted as in slice notation.\n",
            " |  \n",
            " |  encode(...)\n",
            " |      S.encode(encoding='utf-8', errors='strict') -> bytes\n",
            " |      \n",
            " |      Encode S using the codec registered for encoding. Default encoding\n",
            " |      is 'utf-8'. errors may be given to set a different error\n",
            " |      handling scheme. Default is 'strict' meaning that encoding errors raise\n",
            " |      a UnicodeEncodeError. Other possible values are 'ignore', 'replace' and\n",
            " |      'xmlcharrefreplace' as well as any other name registered with\n",
            " |      codecs.register_error that can handle UnicodeEncodeErrors.\n",
            " |  \n",
            " |  endswith(...)\n",
            " |      S.endswith(suffix[, start[, end]]) -> bool\n",
            " |      \n",
            " |      Return True if S ends with the specified suffix, False otherwise.\n",
            " |      With optional start, test S beginning at that position.\n",
            " |      With optional end, stop comparing S at that position.\n",
            " |      suffix can also be a tuple of strings to try.\n",
            " |  \n",
            " |  expandtabs(...)\n",
            " |      S.expandtabs(tabsize=8) -> str\n",
            " |      \n",
            " |      Return a copy of S where all tab characters are expanded using spaces.\n",
            " |      If tabsize is not given, a tab size of 8 characters is assumed.\n",
            " |  \n",
            " |  find(...)\n",
            " |      S.find(sub[, start[, end]]) -> int\n",
            " |      \n",
            " |      Return the lowest index in S where substring sub is found,\n",
            " |      such that sub is contained within S[start:end].  Optional\n",
            " |      arguments start and end are interpreted as in slice notation.\n",
            " |      \n",
            " |      Return -1 on failure.\n",
            " |  \n",
            " |  format(...)\n",
            " |      S.format(*args, **kwargs) -> str\n",
            " |      \n",
            " |      Return a formatted version of S, using substitutions from args and kwargs.\n",
            " |      The substitutions are identified by braces ('{' and '}').\n",
            " |  \n",
            " |  format_map(...)\n",
            " |      S.format_map(mapping) -> str\n",
            " |      \n",
            " |      Return a formatted version of S, using substitutions from mapping.\n",
            " |      The substitutions are identified by braces ('{' and '}').\n",
            " |  \n",
            " |  index(...)\n",
            " |      S.index(sub[, start[, end]]) -> int\n",
            " |      \n",
            " |      Return the lowest index in S where substring sub is found, \n",
            " |      such that sub is contained within S[start:end].  Optional\n",
            " |      arguments start and end are interpreted as in slice notation.\n",
            " |      \n",
            " |      Raises ValueError when the substring is not found.\n",
            " |  \n",
            " |  isalnum(...)\n",
            " |      S.isalnum() -> bool\n",
            " |      \n",
            " |      Return True if all characters in S are alphanumeric\n",
            " |      and there is at least one character in S, False otherwise.\n",
            " |  \n",
            " |  isalpha(...)\n",
            " |      S.isalpha() -> bool\n",
            " |      \n",
            " |      Return True if all characters in S are alphabetic\n",
            " |      and there is at least one character in S, False otherwise.\n",
            " |  \n",
            " |  isdecimal(...)\n",
            " |      S.isdecimal() -> bool\n",
            " |      \n",
            " |      Return True if there are only decimal characters in S,\n",
            " |      False otherwise.\n",
            " |  \n",
            " |  isdigit(...)\n",
            " |      S.isdigit() -> bool\n",
            " |      \n",
            " |      Return True if all characters in S are digits\n",
            " |      and there is at least one character in S, False otherwise.\n",
            " |  \n",
            " |  isidentifier(...)\n",
            " |      S.isidentifier() -> bool\n",
            " |      \n",
            " |      Return True if S is a valid identifier according\n",
            " |      to the language definition.\n",
            " |      \n",
            " |      Use keyword.iskeyword() to test for reserved identifiers\n",
            " |      such as \"def\" and \"class\".\n",
            " |  \n",
            " |  islower(...)\n",
            " |      S.islower() -> bool\n",
            " |      \n",
            " |      Return True if all cased characters in S are lowercase and there is\n",
            " |      at least one cased character in S, False otherwise.\n",
            " |  \n",
            " |  isnumeric(...)\n",
            " |      S.isnumeric() -> bool\n",
            " |      \n",
            " |      Return True if there are only numeric characters in S,\n",
            " |      False otherwise.\n",
            " |  \n",
            " |  isprintable(...)\n",
            " |      S.isprintable() -> bool\n",
            " |      \n",
            " |      Return True if all characters in S are considered\n",
            " |      printable in repr() or S is empty, False otherwise.\n",
            " |  \n",
            " |  isspace(...)\n",
            " |      S.isspace() -> bool\n",
            " |      \n",
            " |      Return True if all characters in S are whitespace\n",
            " |      and there is at least one character in S, False otherwise.\n",
            " |  \n",
            " |  istitle(...)\n",
            " |      S.istitle() -> bool\n",
            " |      \n",
            " |      Return True if S is a titlecased string and there is at least one\n",
            " |      character in S, i.e. upper- and titlecase characters may only\n",
            " |      follow uncased characters and lowercase characters only cased ones.\n",
            " |      Return False otherwise.\n",
            " |  \n",
            " |  isupper(...)\n",
            " |      S.isupper() -> bool\n",
            " |      \n",
            " |      Return True if all cased characters in S are uppercase and there is\n",
            " |      at least one cased character in S, False otherwise.\n",
            " |  \n",
            " |  join(...)\n",
            " |      S.join(iterable) -> str\n",
            " |      \n",
            " |      Return a string which is the concatenation of the strings in the\n",
            " |      iterable.  The separator between elements is S.\n",
            " |  \n",
            " |  ljust(...)\n",
            " |      S.ljust(width[, fillchar]) -> str\n",
            " |      \n",
            " |      Return S left-justified in a Unicode string of length width. Padding is\n",
            " |      done using the specified fill character (default is a space).\n",
            " |  \n",
            " |  lower(...)\n",
            " |      S.lower() -> str\n",
            " |      \n",
            " |      Return a copy of the string S converted to lowercase.\n",
            " |  \n",
            " |  lstrip(...)\n",
            " |      S.lstrip([chars]) -> str\n",
            " |      \n",
            " |      Return a copy of the string S with leading whitespace removed.\n",
            " |      If chars is given and not None, remove characters in chars instead.\n",
            " |  \n",
            " |  partition(...)\n",
            " |      S.partition(sep) -> (head, sep, tail)\n",
            " |      \n",
            " |      Search for the separator sep in S, and return the part before it,\n",
            " |      the separator itself, and the part after it.  If the separator is not\n",
            " |      found, return S and two empty strings.\n",
            " |  \n",
            " |  replace(...)\n",
            " |      S.replace(old, new[, count]) -> str\n",
            " |      \n",
            " |      Return a copy of S with all occurrences of substring\n",
            " |      old replaced by new.  If the optional argument count is\n",
            " |      given, only the first count occurrences are replaced.\n",
            " |  \n",
            " |  rfind(...)\n",
            " |      S.rfind(sub[, start[, end]]) -> int\n",
            " |      \n",
            " |      Return the highest index in S where substring sub is found,\n",
            " |      such that sub is contained within S[start:end].  Optional\n",
            " |      arguments start and end are interpreted as in slice notation.\n",
            " |      \n",
            " |      Return -1 on failure.\n",
            " |  \n",
            " |  rindex(...)\n",
            " |      S.rindex(sub[, start[, end]]) -> int\n",
            " |      \n",
            " |      Return the highest index in S where substring sub is found,\n",
            " |      such that sub is contained within S[start:end].  Optional\n",
            " |      arguments start and end are interpreted as in slice notation.\n",
            " |      \n",
            " |      Raises ValueError when the substring is not found.\n",
            " |  \n",
            " |  rjust(...)\n",
            " |      S.rjust(width[, fillchar]) -> str\n",
            " |      \n",
            " |      Return S right-justified in a string of length width. Padding is\n",
            " |      done using the specified fill character (default is a space).\n",
            " |  \n",
            " |  rpartition(...)\n",
            " |      S.rpartition(sep) -> (head, sep, tail)\n",
            " |      \n",
            " |      Search for the separator sep in S, starting at the end of S, and return\n",
            " |      the part before it, the separator itself, and the part after it.  If the\n",
            " |      separator is not found, return two empty strings and S.\n",
            " |  \n",
            " |  rsplit(...)\n",
            " |      S.rsplit(sep=None, maxsplit=-1) -> list of strings\n",
            " |      \n",
            " |      Return a list of the words in S, using sep as the\n",
            " |      delimiter string, starting at the end of the string and\n",
            " |      working to the front.  If maxsplit is given, at most maxsplit\n",
            " |      splits are done. If sep is not specified, any whitespace string\n",
            " |      is a separator.\n",
            " |  \n",
            " |  rstrip(...)\n",
            " |      S.rstrip([chars]) -> str\n",
            " |      \n",
            " |      Return a copy of the string S with trailing whitespace removed.\n",
            " |      If chars is given and not None, remove characters in chars instead.\n",
            " |  \n",
            " |  split(...)\n",
            " |      S.split(sep=None, maxsplit=-1) -> list of strings\n",
            " |      \n",
            " |      Return a list of the words in S, using sep as the\n",
            " |      delimiter string.  If maxsplit is given, at most maxsplit\n",
            " |      splits are done. If sep is not specified or is None, any\n",
            " |      whitespace string is a separator and empty strings are\n",
            " |      removed from the result.\n",
            " |  \n",
            " |  splitlines(...)\n",
            " |      S.splitlines([keepends]) -> list of strings\n",
            " |      \n",
            " |      Return a list of the lines in S, breaking at line boundaries.\n",
            " |      Line breaks are not included in the resulting list unless keepends\n",
            " |      is given and true.\n",
            " |  \n",
            " |  startswith(...)\n",
            " |      S.startswith(prefix[, start[, end]]) -> bool\n",
            " |      \n",
            " |      Return True if S starts with the specified prefix, False otherwise.\n",
            " |      With optional start, test S beginning at that position.\n",
            " |      With optional end, stop comparing S at that position.\n",
            " |      prefix can also be a tuple of strings to try.\n",
            " |  \n",
            " |  strip(...)\n",
            " |      S.strip([chars]) -> str\n",
            " |      \n",
            " |      Return a copy of the string S with leading and trailing\n",
            " |      whitespace removed.\n",
            " |      If chars is given and not None, remove characters in chars instead.\n",
            " |  \n",
            " |  swapcase(...)\n",
            " |      S.swapcase() -> str\n",
            " |      \n",
            " |      Return a copy of S with uppercase characters converted to lowercase\n",
            " |      and vice versa.\n",
            " |  \n",
            " |  title(...)\n",
            " |      S.title() -> str\n",
            " |      \n",
            " |      Return a titlecased version of S, i.e. words start with title case\n",
            " |      characters, all remaining cased characters have lower case.\n",
            " |  \n",
            " |  translate(...)\n",
            " |      S.translate(table) -> str\n",
            " |      \n",
            " |      Return a copy of the string S in which each character has been mapped\n",
            " |      through the given translation table. The table must implement\n",
            " |      lookup/indexing via __getitem__, for instance a dictionary or list,\n",
            " |      mapping Unicode ordinals to Unicode ordinals, strings, or None. If\n",
            " |      this operation raises LookupError, the character is left untouched.\n",
            " |      Characters mapped to None are deleted.\n",
            " |  \n",
            " |  upper(...)\n",
            " |      S.upper() -> str\n",
            " |      \n",
            " |      Return a copy of S converted to uppercase.\n",
            " |  \n",
            " |  zfill(...)\n",
            " |      S.zfill(width) -> str\n",
            " |      \n",
            " |      Pad a numeric string S with zeros on the left, to fill a field\n",
            " |      of the specified width. The string S is never truncated.\n",
            " |  \n",
            " |  ----------------------------------------------------------------------\n",
            " |  Static methods defined here:\n",
            " |  \n",
            " |  maketrans(x, y=None, z=None, /)\n",
            " |      Return a translation table usable for str.translate().\n",
            " |      \n",
            " |      If there is only one argument, it must be a dictionary mapping Unicode\n",
            " |      ordinals (integers) or characters to Unicode ordinals, strings or None.\n",
            " |      Character keys will be then converted to ordinals.\n",
            " |      If there are two arguments, they must be strings of equal length, and\n",
            " |      in the resulting dictionary, each character in x will be mapped to the\n",
            " |      character at the same position in y. If there is a third argument, it\n",
            " |      must be a string, whose characters will be mapped to None in the result.\n",
            "\n"
          ],
          "name": "stdout"
        }
      ]
    },
    {
      "cell_type": "code",
      "metadata": {
        "id": "Xq16KcPQJd6y",
        "colab": {
          "base_uri": "https://localhost:8080/"
        },
        "outputId": "af492fa2-daea-4040-bcef-3684c2915dea"
      },
      "source": [
        "'a' in sentence # Check if a specific character IS in present in string"
      ],
      "execution_count": null,
      "outputs": [
        {
          "output_type": "execute_result",
          "data": {
            "text/plain": [
              "True"
            ]
          },
          "metadata": {
            "tags": []
          },
          "execution_count": 42
        }
      ]
    },
    {
      "cell_type": "code",
      "metadata": {
        "id": "2ttjcGn0J2qa",
        "colab": {
          "base_uri": "https://localhost:8080/"
        },
        "outputId": "b8aa53ed-7b38-4902-bd6c-bb5d1d0ca2f1"
      },
      "source": [
        "'x' not in sentence # Check if a specific character is NOT in present in string"
      ],
      "execution_count": null,
      "outputs": [
        {
          "output_type": "execute_result",
          "data": {
            "text/plain": [
              "True"
            ]
          },
          "metadata": {
            "tags": []
          },
          "execution_count": 44
        }
      ]
    },
    {
      "cell_type": "markdown",
      "metadata": {
        "id": "OnAI0bau8VQ4"
      },
      "source": [
        "## **Casting**\n",
        "\n",
        "Casting in python is therefore done using predifined functions:\n",
        "\n",
        "> **int()** - constructs an integer number from an integer literal, a float literal (by rounding down to the previous whole number), or a string literal (providing the string represents a whole number)\n",
        "\n",
        "> **float()** - constructs a float number from an integer literal, a float literal or a string literal (providing the string represents a float or an integer)\n",
        "\n",
        "> **str()** - constructs a string from a wide variety of data types, including strings, integer literals and float literals\n",
        "\n",
        "Forexample:\n"
      ]
    },
    {
      "cell_type": "code",
      "metadata": {
        "id": "ITc3WUwh7kvd",
        "colab": {
          "base_uri": "https://localhost:8080/"
        },
        "outputId": "f573857d-902c-4c37-c279-e4d9172a9d7b"
      },
      "source": [
        "x = 2.8\n",
        "print('Type of x before: {}'.format(type(x)))\n",
        "\n",
        "x = int(x) # y will be 2\n",
        "print('Type of x after: {}'.format(type(x)))\n"
      ],
      "execution_count": null,
      "outputs": [
        {
          "output_type": "stream",
          "text": [
            "Type of x before: <class 'float'>\n",
            "Type of x after: <class 'int'>\n"
          ],
          "name": "stdout"
        }
      ]
    },
    {
      "cell_type": "code",
      "metadata": {
        "id": "1pko9hd88VQ5",
        "colab": {
          "base_uri": "https://localhost:8080/"
        },
        "outputId": "7592e253-891a-47f5-8d50-1fb6042d6d2d"
      },
      "source": [
        "y = '3'\n",
        "print('Type of y before: {}'.format(type(y)))\n",
        "\n",
        "y = int(y) # z will be 3\n",
        "print('Type of y after: {}'.format(type(y)))\n"
      ],
      "execution_count": null,
      "outputs": [
        {
          "output_type": "stream",
          "text": [
            "Type of y before: <class 'str'>\n",
            "Type of y after: <class 'int'>\n"
          ],
          "name": "stdout"
        }
      ]
    },
    {
      "cell_type": "markdown",
      "metadata": {
        "id": "7_YZic6m8VQ5"
      },
      "source": [
        "# **Basics maths operation**"
      ]
    },
    {
      "cell_type": "code",
      "metadata": {
        "id": "lRNPhnzB8VQ5"
      },
      "source": [
        "a = 10\n",
        "b = 3"
      ],
      "execution_count": null,
      "outputs": []
    },
    {
      "cell_type": "code",
      "metadata": {
        "id": "QUo3dWYD8VQ5",
        "colab": {
          "base_uri": "https://localhost:8080/"
        },
        "outputId": "d70154c6-f835-4f9e-ee4d-036da969334c"
      },
      "source": [
        "# addition\n",
        "c = a + b\n",
        "print('{} + {} = {}'.format(a, b, c))"
      ],
      "execution_count": null,
      "outputs": [
        {
          "output_type": "stream",
          "text": [
            "22 + 2.0 = 24.0\n"
          ],
          "name": "stdout"
        }
      ]
    },
    {
      "cell_type": "code",
      "metadata": {
        "id": "kaHeRGhY8VQ6"
      },
      "source": [
        "# substraction\n",
        "c = a - b\n",
        "print('{} - {} = {}'.format(a, b, c))"
      ],
      "execution_count": null,
      "outputs": []
    },
    {
      "cell_type": "code",
      "metadata": {
        "id": "J_LNFoQb8VQ6"
      },
      "source": [
        "# Multiplication\n",
        "m = a * b\n",
        "print('{} * {} = {}'.format(a, b, c))"
      ],
      "execution_count": null,
      "outputs": []
    },
    {
      "cell_type": "code",
      "metadata": {
        "id": "P3DZNxEJkabu"
      },
      "source": [
        "# exponential\n",
        "e = a ** b\n",
        "print('{}^{} = {}'.format(a, b, e))"
      ],
      "execution_count": null,
      "outputs": []
    },
    {
      "cell_type": "code",
      "metadata": {
        "id": "1X_MbjzfkvX6",
        "colab": {
          "base_uri": "https://localhost:8080/"
        },
        "outputId": "9b636c6a-78ce-444e-a1d3-06cf7c2c5904"
      },
      "source": [
        "# floor division, // (two forward slashes)\n",
        "d = a // b\n",
        "print('{} // {} = {}'.format(a, b, d))"
      ],
      "execution_count": null,
      "outputs": [
        {
          "output_type": "stream",
          "text": [
            "10 // 3 = 3\n"
          ],
          "name": "stdout"
        }
      ]
    },
    {
      "cell_type": "markdown",
      "metadata": {
        "id": "hLicuX5B9SO0"
      },
      "source": [
        " **So what if we just want the remainder after division ?**"
      ]
    },
    {
      "cell_type": "code",
      "metadata": {
        "id": "cBO8elRh9SO0",
        "colab": {
          "base_uri": "https://localhost:8080/"
        },
        "outputId": "2e9fddcc-d545-4b8d-93cd-dad70a458d3d"
      },
      "source": [
        "# modulo, remainder after division\n",
        "m = a % b\n",
        "print('{} % {} = {}'.format(a, b, m))"
      ],
      "execution_count": null,
      "outputs": [
        {
          "output_type": "stream",
          "text": [
            "10 % 3 = 1\n"
          ],
          "name": "stdout"
        }
      ]
    },
    {
      "cell_type": "code",
      "metadata": {
        "id": "fzIJDRbc8VQ8"
      },
      "source": [
        "d = a / b\n",
        "print('{} / {} = {}'.format(a, b, d))"
      ],
      "execution_count": null,
      "outputs": []
    },
    {
      "cell_type": "code",
      "metadata": {
        "id": "RwfuC17n9SO1",
        "colab": {
          "base_uri": "https://localhost:8080/"
        },
        "outputId": "b1d4cb47-3c38-4921-e169-ff77258d1c57"
      },
      "source": [
        "# Order of operations followed in Python\n",
        "2 + 10 * 10 + 3"
      ],
      "execution_count": null,
      "outputs": [
        {
          "output_type": "execute_result",
          "data": {
            "text/plain": [
              "105"
            ]
          },
          "metadata": {
            "tags": []
          },
          "execution_count": 54
        }
      ]
    },
    {
      "cell_type": "code",
      "metadata": {
        "id": "BoFd6k4i9SO1"
      },
      "source": [
        "# Can use parentheses to specify orders\n",
        "\n",
        "(2+10) * (10+3)"
      ],
      "execution_count": null,
      "outputs": []
    },
    {
      "cell_type": "markdown",
      "metadata": {
        "id": "QKNFFXPinDUk"
      },
      "source": [
        "__Some shortcuts__\n",
        "\n",
        "There's actually a shortcut for the math operations. Python lets you add, subtract, multiply and divide numbers with reassignment using +=, -=, *=, and /=."
      ]
    },
    {
      "cell_type": "code",
      "metadata": {
        "id": "wi2QaMrY8VQ8"
      },
      "source": [
        "n = 2 # i want to add 1 to a"
      ],
      "execution_count": null,
      "outputs": []
    },
    {
      "cell_type": "code",
      "metadata": {
        "id": "ONFJNaJ1nGUF",
        "colab": {
          "base_uri": "https://localhost:8080/"
        },
        "outputId": "cd82a8f0-4518-4f8a-e3f4-5f604a8df535"
      },
      "source": [
        "n = 2\n",
        "n = n + 1\n",
        "print(n)\n",
        "\n",
        "n = 2\n",
        "n += 1\n",
        "print(n)"
      ],
      "execution_count": null,
      "outputs": [
        {
          "output_type": "stream",
          "text": [
            "3\n",
            "3\n"
          ],
          "name": "stdout"
        }
      ]
    },
    {
      "cell_type": "code",
      "metadata": {
        "id": "3aNJ0-FHqP7O"
      },
      "source": [
        "n = 3\n",
        "n = n * 2\n",
        "print(n)\n",
        "\n",
        "n = 3\n",
        "n *= 2\n",
        "print(n)"
      ],
      "execution_count": null,
      "outputs": []
    },
    {
      "cell_type": "markdown",
      "metadata": {
        "id": "JQZbfXij9SO2"
      },
      "source": [
        "### **Comparison operators**\n",
        "\n",
        "These operators will allow us to compare variables and output a Boolean value (True or False).\n",
        "\n",
        "**Equal ( == )**: If the values of two operands are equal, then the condition becomes true\n",
        "\n",
        "**Different ( != )**: If values of two operands are not equal, then condition becomes true.\n",
        "\n",
        "**greater than ( > )**: If the value of left operand is greater than the value of right operand, then condition becomes true.\n",
        "\n",
        "**less than ( < )**: If the value of left operand is less than the value of right operand, then condition becomes true.\n",
        "\n",
        "**greater or equal than ( >= )**: If the value of left operand is greater than or equal to the value of right operand, then condition becomes true.\n",
        "\n",
        "**less or equal than ( <= )**: If the value of left operand is less than or equal to the value of right operand, then condition becomes true.\n"
      ]
    },
    {
      "cell_type": "markdown",
      "metadata": {
        "id": "vUu3dLvS9SO2"
      },
      "source": [
        "**Equal**"
      ]
    },
    {
      "cell_type": "code",
      "metadata": {
        "id": "IIeyOsHG9SO2",
        "colab": {
          "base_uri": "https://localhost:8080/"
        },
        "outputId": "70fc38e8-6092-41d6-8911-7603d3391c5f"
      },
      "source": [
        "2 == 2"
      ],
      "execution_count": null,
      "outputs": [
        {
          "output_type": "execute_result",
          "data": {
            "text/plain": [
              "True"
            ]
          },
          "metadata": {
            "tags": []
          },
          "execution_count": 56
        }
      ]
    },
    {
      "cell_type": "code",
      "metadata": {
        "id": "ghqy4qcU9SO3",
        "colab": {
          "base_uri": "https://localhost:8080/"
        },
        "outputId": "46c0fa22-3b77-4a24-963a-745c6061a534"
      },
      "source": [
        "1 == 0"
      ],
      "execution_count": null,
      "outputs": [
        {
          "output_type": "execute_result",
          "data": {
            "text/plain": [
              "False"
            ]
          },
          "metadata": {
            "tags": []
          },
          "execution_count": 57
        }
      ]
    },
    {
      "cell_type": "markdown",
      "metadata": {
        "id": "RJLwExPp9SO3"
      },
      "source": [
        "**Note that == is a comparison operator, while = is an assignment operator.**"
      ]
    },
    {
      "cell_type": "markdown",
      "metadata": {
        "id": "b695e8OV9SO3"
      },
      "source": [
        "**Not Equal**"
      ]
    },
    {
      "cell_type": "code",
      "metadata": {
        "id": "6VxBN7oi9SO3"
      },
      "source": [
        "2 != 1"
      ],
      "execution_count": null,
      "outputs": []
    },
    {
      "cell_type": "code",
      "metadata": {
        "id": "G-i8dJgG9SO3"
      },
      "source": [
        "2 != 2"
      ],
      "execution_count": null,
      "outputs": []
    },
    {
      "cell_type": "markdown",
      "metadata": {
        "id": "OMkGIl3T9SO4"
      },
      "source": [
        "**Greater than**"
      ]
    },
    {
      "cell_type": "code",
      "metadata": {
        "id": "73KDx8OG9SO4"
      },
      "source": [
        "2 > 1"
      ],
      "execution_count": null,
      "outputs": []
    },
    {
      "cell_type": "code",
      "metadata": {
        "id": "CZTYSudp9SO4"
      },
      "source": [
        "2 > 2"
      ],
      "execution_count": null,
      "outputs": []
    },
    {
      "cell_type": "markdown",
      "metadata": {
        "id": "iF1rsrJc9SO4"
      },
      "source": [
        "**Less than**"
      ]
    },
    {
      "cell_type": "code",
      "metadata": {
        "id": "2TBcRs1Q9SO4"
      },
      "source": [
        "5 < 4"
      ],
      "execution_count": null,
      "outputs": []
    },
    {
      "cell_type": "code",
      "metadata": {
        "id": "MuKYpbXe9SO5"
      },
      "source": [
        "5 < 7"
      ],
      "execution_count": null,
      "outputs": []
    },
    {
      "cell_type": "markdown",
      "metadata": {
        "id": "yhrVQz0U9SO5"
      },
      "source": [
        "**Greater than or Equal to**"
      ]
    },
    {
      "cell_type": "code",
      "metadata": {
        "id": "vuhGvpvi9SO5"
      },
      "source": [
        "2 >= 2"
      ],
      "execution_count": null,
      "outputs": []
    },
    {
      "cell_type": "code",
      "metadata": {
        "id": "GaEoch8L9SO5"
      },
      "source": [
        "2 >= 5"
      ],
      "execution_count": null,
      "outputs": []
    },
    {
      "cell_type": "markdown",
      "metadata": {
        "id": "Ulr6Ju1K9SO5"
      },
      "source": [
        "**Less than or Equal to**"
      ]
    },
    {
      "cell_type": "code",
      "metadata": {
        "id": "xBIffyDH9SO6"
      },
      "source": [
        "2 <= 1"
      ],
      "execution_count": null,
      "outputs": []
    },
    {
      "cell_type": "code",
      "metadata": {
        "id": "oX_Lpnb09SO6"
      },
      "source": [
        "2 <= 10"
      ],
      "execution_count": null,
      "outputs": []
    },
    {
      "cell_type": "markdown",
      "metadata": {
        "id": "eEOzlORD9SO6"
      },
      "source": [
        "#### **Chained Comparison Operators**¶\n",
        "An interesting feature of Python is the ability to chain multiple comparisons to perform a more complex test. You can use these to create larger Boolean Expressions.\n"
      ]
    },
    {
      "cell_type": "code",
      "metadata": {
        "id": "7ZD0BUKp9SO6"
      },
      "source": [
        "1 < 2 < 3"
      ],
      "execution_count": null,
      "outputs": []
    },
    {
      "cell_type": "markdown",
      "metadata": {
        "id": "QWAGTHv19SO6"
      },
      "source": [
        "It will check first if 1 is less than 2 **and** if 2 is less than 3. We could have written this using an and statement in Python:"
      ]
    },
    {
      "cell_type": "code",
      "metadata": {
        "id": "QtcLoJmI9SO7"
      },
      "source": [
        "1<2 and 2<3"
      ],
      "execution_count": null,
      "outputs": []
    },
    {
      "cell_type": "markdown",
      "metadata": {
        "id": "WxYqVskM9SO7"
      },
      "source": [
        "The and is used to make sure two checks have to be true in order for the total check to be true. Let's see another example:"
      ]
    },
    {
      "cell_type": "code",
      "metadata": {
        "id": "wiMfG05i9SO7"
      },
      "source": [
        "1 < 3 > 2"
      ],
      "execution_count": null,
      "outputs": []
    },
    {
      "cell_type": "code",
      "metadata": {
        "id": "6WDLNrGl9SO7",
        "colab": {
          "base_uri": "https://localhost:8080/"
        },
        "outputId": "f6f8ab18-1d72-40ff-9dc8-fbc5b059cb0d"
      },
      "source": [
        "1<3 and 3<2"
      ],
      "execution_count": null,
      "outputs": [
        {
          "output_type": "execute_result",
          "data": {
            "text/plain": [
              "False"
            ]
          },
          "metadata": {
            "tags": []
          },
          "execution_count": 59
        }
      ]
    },
    {
      "cell_type": "markdown",
      "metadata": {
        "id": "MAhm-JOW9SO7"
      },
      "source": [
        "It's important to note that Python is checking both instances of the comparisons. We can also use **or** to write comparisons in Python.\n",
        "\n",
        "For example:"
      ]
    },
    {
      "cell_type": "code",
      "metadata": {
        "id": "JCFeAhng9SO7",
        "colab": {
          "base_uri": "https://localhost:8080/"
        },
        "outputId": "67c8f0cf-c53b-4ada-88b4-48b8d99caf5b"
      },
      "source": [
        "1 == 2 or 2<3"
      ],
      "execution_count": null,
      "outputs": [
        {
          "output_type": "execute_result",
          "data": {
            "text/plain": [
              "True"
            ]
          },
          "metadata": {
            "tags": []
          },
          "execution_count": 60
        }
      ]
    },
    {
      "cell_type": "markdown",
      "metadata": {
        "id": "BXL_pump9SO8"
      },
      "source": [
        "Note how it was true; this is because with the **or** operator, we only need one or the other to be true."
      ]
    },
    {
      "cell_type": "code",
      "metadata": {
        "id": "PGu2QxCN9SO8",
        "colab": {
          "base_uri": "https://localhost:8080/"
        },
        "outputId": "df7e42eb-b55b-4a73-fe3e-270d052acfba"
      },
      "source": [
        "1 == 1 or 100==1"
      ],
      "execution_count": null,
      "outputs": [
        {
          "output_type": "execute_result",
          "data": {
            "text/plain": [
              "True"
            ]
          },
          "metadata": {
            "tags": []
          },
          "execution_count": 61
        }
      ]
    },
    {
      "cell_type": "markdown",
      "metadata": {
        "id": "sBkz3_of9SO8"
      },
      "source": [
        "## **Conditional statement**\n",
        "Conditional Statements (if, elif and else) in Python allows us to tell the computer to perform alternative actions based on a certain set of results. \n",
        "\n",
        "Syntax format for if statements to get a better idea of this:\n",
        "\n",
        "    if case1:\n",
        "        perform action1\n",
        "    elif case2:\n",
        "        perform action2\n",
        "    else: \n",
        "        perform action3"
      ]
    },
    {
      "cell_type": "code",
      "metadata": {
        "id": "vkjir8HXC9QY",
        "colab": {
          "base_uri": "https://localhost:8080/"
        },
        "outputId": "829b9601-8886-4bd8-e249-f44ca6e0d5bc"
      },
      "source": [
        "if 2==2:\n",
        "    print('The condition is True')\n",
        "else:\n",
        "    print('The condition is False')"
      ],
      "execution_count": null,
      "outputs": [
        {
          "output_type": "stream",
          "text": [
            "The condition is True\n"
          ],
          "name": "stdout"
        }
      ]
    },
    {
      "cell_type": "code",
      "metadata": {
        "id": "9t8mF-edC9Qa",
        "colab": {
          "base_uri": "https://localhost:8080/"
        },
        "outputId": "4640f639-d584-4a13-bb23-b09d973bceba"
      },
      "source": [
        "x = False\n",
        "\n",
        "if x:\n",
        "    print('x was True!')\n",
        "else:\n",
        "    print('I will be printed in any case where x is not true')\n"
      ],
      "execution_count": null,
      "outputs": [
        {
          "output_type": "stream",
          "text": [
            "I will be printed in any case where x is not true\n"
          ],
          "name": "stdout"
        }
      ]
    },
    {
      "cell_type": "markdown",
      "metadata": {
        "id": "R3nRBWiFC9Qa"
      },
      "source": [
        "### **Multiple Branches**\n",
        "Let's get a fuller picture of how far if, elif, and else can take us!\n",
        "\n",
        "We write this out in a nested structure. Take note of how the if, elif, and else line up in the code. This can help you see what if is related to what elif or else statements.\n",
        "\n",
        "Example:"
      ]
    },
    {
      "cell_type": "code",
      "metadata": {
        "id": "e87-AJeGC9Qa"
      },
      "source": [
        "loc = 'Bank'\n",
        "\n",
        "if loc == 'Shop':\n",
        "    print('Welcome to the Shop!')\n",
        "elif loc == 'Bank':\n",
        "    print('Welcome to the bank!')\n",
        "else:\n",
        "    print('Where are you?')"
      ],
      "execution_count": null,
      "outputs": []
    },
    {
      "cell_type": "code",
      "metadata": {
        "id": "kqkFVPXeC9Qa"
      },
      "source": [
        ""
      ],
      "execution_count": null,
      "outputs": []
    }
  ]
}