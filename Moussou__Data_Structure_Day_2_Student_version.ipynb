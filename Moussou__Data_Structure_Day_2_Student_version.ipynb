{
  "nbformat": 4,
  "nbformat_minor": 0,
  "metadata": {
    "colab": {
      "name": "Moussou_ Data Structure - Day 2 - Student version",
      "provenance": [],
      "collapsed_sections": [],
      "toc_visible": true
    },
    "kernelspec": {
      "display_name": "Python 3",
      "name": "python3"
    }
  },
  "cells": [
    {
      "cell_type": "markdown",
      "metadata": {
        "id": "4HSp_bbNCGFq"
      },
      "source": [
        "### Data structures - Day 2\n",
        "\n",
        "* Stacks\n",
        "* Queues\n",
        "* Linked List"
      ]
    },
    {
      "cell_type": "code",
      "metadata": {
        "id": "8JrerslUvXXe"
      },
      "source": [
        ""
      ],
      "execution_count": null,
      "outputs": []
    },
    {
      "cell_type": "markdown",
      "metadata": {
        "id": "YC1pJ8JdvX8m"
      },
      "source": [
        "## Revision on Lists, Tuples, Sets, Dictionary"
      ]
    },
    {
      "cell_type": "markdown",
      "metadata": {
        "id": "DYiRLJAozW6p"
      },
      "source": [
        "### List\n",
        "* Creating lists\n",
        "* Indexing lists\n",
        "* Inerting and removing items\n",
        "* Item assignment\n",
        "* Extending \n",
        "* Concatenation\n",
        "* Searching items\n",
        "* Iteration\n",
        "\n"
      ]
    },
    {
      "cell_type": "code",
      "metadata": {
        "id": "Y746WvsOzWBS"
      },
      "source": [
        "l = [2, 4, 6]\n",
        "del l[0]"
      ],
      "execution_count": null,
      "outputs": []
    },
    {
      "cell_type": "markdown",
      "metadata": {
        "id": "A_MYVzfzydqH"
      },
      "source": [
        "\n",
        "### Tuple\n",
        "* Creating tuples\n",
        "* Indexing tuples\n",
        "* Searching items\n",
        "* Iteration\n",
        "\n",
        "\n"
      ]
    },
    {
      "cell_type": "code",
      "metadata": {
        "id": "y2Bcfkl2zZYP"
      },
      "source": [
        "t = tuple([4, 6,7])"
      ],
      "execution_count": null,
      "outputs": []
    },
    {
      "cell_type": "code",
      "metadata": {
        "colab": {
          "base_uri": "https://localhost:8080/",
          "height": 164
        },
        "id": "nBKiPAE0Lu2w",
        "outputId": "a2da7b4e-1649-476f-9c33-749786524f00"
      },
      "source": [
        "del t[0]"
      ],
      "execution_count": null,
      "outputs": [
        {
          "output_type": "error",
          "ename": "TypeError",
          "evalue": "ignored",
          "traceback": [
            "\u001b[0;31m---------------------------------------------------------------------------\u001b[0m",
            "\u001b[0;31mTypeError\u001b[0m                                 Traceback (most recent call last)",
            "\u001b[0;32m<ipython-input-2-542f9bb8f15e>\u001b[0m in \u001b[0;36m<module>\u001b[0;34m()\u001b[0m\n\u001b[0;32m----> 1\u001b[0;31m \u001b[0;32mdel\u001b[0m \u001b[0mt\u001b[0m\u001b[0;34m[\u001b[0m\u001b[0;36m0\u001b[0m\u001b[0;34m]\u001b[0m\u001b[0;34m\u001b[0m\u001b[0;34m\u001b[0m\u001b[0m\n\u001b[0m",
            "\u001b[0;31mTypeError\u001b[0m: 'tuple' object doesn't support item deletion"
          ]
        }
      ]
    },
    {
      "cell_type": "code",
      "metadata": {
        "id": "K2FZESRbLu6L"
      },
      "source": [
        ""
      ],
      "execution_count": null,
      "outputs": []
    },
    {
      "cell_type": "markdown",
      "metadata": {
        "id": "8tH3XK6NzZq8"
      },
      "source": [
        "\n",
        "### Sets\n",
        "* Creating sets\n",
        "* Adding and removing items\n",
        "* Union \n",
        "* Intersection\n",
        "* Searching items\n",
        "* Iteration\n",
        "* Possible items data type"
      ]
    },
    {
      "cell_type": "code",
      "metadata": {
        "id": "PT5FzIymOhpG"
      },
      "source": [
        "s = set([6, 7, (7, 9)])\n",
        "# s[0]"
      ],
      "execution_count": null,
      "outputs": []
    },
    {
      "cell_type": "code",
      "metadata": {
        "id": "LGB1Q84gOPkK"
      },
      "source": [
        "l = [5, 6]"
      ],
      "execution_count": null,
      "outputs": []
    },
    {
      "cell_type": "code",
      "metadata": {
        "colab": {
          "base_uri": "https://localhost:8080/"
        },
        "id": "b4MQfgLLOQt4",
        "outputId": "6b267dc8-c0c8-40a8-94b8-03c8f8ae1165"
      },
      "source": [
        "l.append(6)\n",
        "l"
      ],
      "execution_count": null,
      "outputs": [
        {
          "output_type": "execute_result",
          "data": {
            "text/plain": [
              "[5, 6, 6]"
            ]
          },
          "metadata": {
            "tags": []
          },
          "execution_count": 9
        }
      ]
    },
    {
      "cell_type": "code",
      "metadata": {
        "id": "da7TlHFLyc_a"
      },
      "source": [
        "s = set((3, 5, 6))\n",
        "s = set(\"abcd\")"
      ],
      "execution_count": null,
      "outputs": []
    },
    {
      "cell_type": "code",
      "metadata": {
        "id": "r0m4kKUXN1qR"
      },
      "source": [
        "s = set([3, 5, 6, [5, 6]])\n",
        "\n",
        "s = {3, 5, 6}"
      ],
      "execution_count": null,
      "outputs": []
    },
    {
      "cell_type": "code",
      "metadata": {
        "id": "2Na8zPSnM0nF"
      },
      "source": [
        "s = {4, 6, 8, 8}"
      ],
      "execution_count": null,
      "outputs": []
    },
    {
      "cell_type": "code",
      "metadata": {
        "id": "Ij-CzDAqNXIn"
      },
      "source": [
        "l = (5, 6)\n",
        "s1 = {l}"
      ],
      "execution_count": null,
      "outputs": []
    },
    {
      "cell_type": "code",
      "metadata": {
        "id": "7GT1s0czNfR1"
      },
      "source": [
        ""
      ],
      "execution_count": null,
      "outputs": []
    },
    {
      "cell_type": "markdown",
      "metadata": {
        "id": "tSS85NcxzbbE"
      },
      "source": [
        "### Dictionary\n"
      ]
    },
    {
      "cell_type": "code",
      "metadata": {
        "id": "lYCeWg7lPNGQ"
      },
      "source": [
        "a = {i:2 * i for i in range(10)}"
      ],
      "execution_count": null,
      "outputs": []
    },
    {
      "cell_type": "code",
      "metadata": {
        "colab": {
          "base_uri": "https://localhost:8080/"
        },
        "id": "YXl_lVdpPRDV",
        "outputId": "7c63f08e-9edf-4301-ba34-cac5f45fe955"
      },
      "source": [
        "a"
      ],
      "execution_count": null,
      "outputs": [
        {
          "output_type": "execute_result",
          "data": {
            "text/plain": [
              "{0: 0, 1: 2, 2: 4, 3: 6, 4: 8, 5: 10, 6: 12, 7: 14, 8: 16, 9: 18}"
            ]
          },
          "metadata": {
            "tags": []
          },
          "execution_count": 13
        }
      ]
    },
    {
      "cell_type": "code",
      "metadata": {
        "colab": {
          "base_uri": "https://localhost:8080/"
        },
        "id": "d9dMsim4PU8M",
        "outputId": "eb14f1af-c1ad-4fbd-ac39-109fc8a9c210"
      },
      "source": [
        "for key in a:\n",
        "  print(key)"
      ],
      "execution_count": null,
      "outputs": [
        {
          "output_type": "stream",
          "text": [
            "0\n",
            "1\n",
            "2\n",
            "3\n",
            "4\n",
            "5\n",
            "6\n",
            "7\n",
            "8\n",
            "9\n"
          ],
          "name": "stdout"
        }
      ]
    },
    {
      "cell_type": "code",
      "metadata": {
        "colab": {
          "base_uri": "https://localhost:8080/"
        },
        "id": "NPJfgoJ7Paxw",
        "outputId": "250b4813-7384-4694-90db-940a6a402913"
      },
      "source": [
        "# for key, value in a.items():\n",
        "#   print(\"key: {} value: {}\".format(key, value))\n",
        "\n",
        "\n",
        "for index, (key, value) in enumerate(a.items()):\n",
        "  print(\"index:{} key: {} value: {}\".format(index, key, value))"
      ],
      "execution_count": null,
      "outputs": [
        {
          "output_type": "stream",
          "text": [
            "index:0 key: 0 value: 0\n",
            "index:1 key: 1 value: 2\n",
            "index:2 key: 2 value: 4\n",
            "index:3 key: 3 value: 6\n",
            "index:4 key: 4 value: 8\n",
            "index:5 key: 5 value: 10\n",
            "index:6 key: 6 value: 12\n",
            "index:7 key: 7 value: 14\n",
            "index:8 key: 8 value: 16\n",
            "index:9 key: 9 value: 18\n"
          ],
          "name": "stdout"
        }
      ]
    },
    {
      "cell_type": "markdown",
      "metadata": {
        "id": "Mze-jctfo4en"
      },
      "source": [
        "## Linked Lists\n",
        "\n",
        "* Another implementation of List ADT\n",
        "* Each element has reference to next element(which could be None for tail)\n",
        "* Have two properties, head node and tail node\n",
        "\n",
        "\n",
        "<img src=\"https://upload.wikimedia.org/wikipedia/commons/b/bf/Linked_list_data_format.jpg\"/><br/>\n",
        "<b>fig src:[https://upload.wikimedia.org/wikipedia/commons/b/bf/Linked_list_data_format.jpg](https://upload.wikimedia.org/wikipedia/commons/b/bf/Linked_list_data_format.jpg)</b>"
      ]
    },
    {
      "cell_type": "markdown",
      "metadata": {
        "id": "CrLB0QwGqOyY"
      },
      "source": [
        "### Linked List - Node\n",
        "* Is each element in linked list\n",
        "* Has two properties\n",
        "  * Data\n",
        "  * Next \n",
        "\n",
        "  \n",
        "### Implementing Linked List\n"
      ]
    },
    {
      "cell_type": "code",
      "metadata": {
        "id": "Gw6qiUlZRiRQ"
      },
      "source": [
        "## Node contains two attributes\n",
        "## * data => could be number type or string  \n",
        "## * next => reference to next element, can be None\n",
        "\n",
        "class Node:\n",
        "  def __init__(self, data):\n",
        "    self.data = data\n",
        "    self.next = None"
      ],
      "execution_count": null,
      "outputs": []
    },
    {
      "cell_type": "code",
      "metadata": {
        "id": "kSAHhzsrSsDX"
      },
      "source": [
        "node = Node(28)"
      ],
      "execution_count": null,
      "outputs": []
    },
    {
      "cell_type": "markdown",
      "metadata": {
        "id": "TvEdic7HaZAv"
      },
      "source": [
        "### Practice Question 1\n",
        "\n",
        "Implement node for linked list(Singly linked list)"
      ]
    },
    {
      "cell_type": "code",
      "metadata": {
        "id": "vC34rO9laYXX"
      },
      "source": [
        "class Node:\n",
        "  def __init__(self, data):\n",
        "    self.data = data\n",
        "    self.next = None"
      ],
      "execution_count": null,
      "outputs": []
    },
    {
      "cell_type": "code",
      "metadata": {
        "id": "GphpPd-XhvdW"
      },
      "source": [
        "node = Node(\"Africa\")"
      ],
      "execution_count": null,
      "outputs": []
    },
    {
      "cell_type": "code",
      "metadata": {
        "colab": {
          "base_uri": "https://localhost:8080/"
        },
        "id": "6fJ9f4WEh04M",
        "outputId": "11a31d63-b9a4-4e21-f57c-0d1a743ed61a"
      },
      "source": [
        "node"
      ],
      "execution_count": null,
      "outputs": [
        {
          "output_type": "execute_result",
          "data": {
            "text/plain": [
              "<__main__.Node at 0x7f6ae1be5668>"
            ]
          },
          "metadata": {
            "tags": []
          },
          "execution_count": 21
        }
      ]
    },
    {
      "cell_type": "code",
      "metadata": {
        "id": "Ngakha0Lh07K"
      },
      "source": [
        ""
      ],
      "execution_count": null,
      "outputs": []
    },
    {
      "cell_type": "markdown",
      "metadata": {
        "id": "JMFePT9Nahk9"
      },
      "source": [
        "## Practice Question 2\n",
        "Implement linked list class\n"
      ]
    },
    {
      "cell_type": "code",
      "metadata": {
        "id": "K8XfU2HzR_Hd"
      },
      "source": [
        "\n",
        "class LinkedList:\n",
        "  def __init__(self):\n",
        "    self.head = None\n",
        "    self.tail = None\n",
        "  def insert_at_start(self, data):\n",
        "    # data is integer\n",
        "    # You need to create a node with this data\n",
        "    \n",
        "    node = Node(data)\n",
        "    # Case 1: There are no elements\n",
        "    if self.head is None:\n",
        "      self.head = self.tail = node\n",
        "    else:\n",
        "      node.next = self.head\n",
        "      self.head = node\n",
        "  def insert(self, data, index):\n",
        "    \n",
        "\n",
        "  def insert_at_end(self, data):\n",
        "    pass\n",
        "  def display(self):\n",
        "    pass\n",
        "  def search(self, data): \n",
        "    # Return the index of first occurance of a data. \n",
        "    # if the data is not found return -1\n",
        "    current = self.head\n",
        "    i = 0\n",
        "    while current is not None:\n",
        "      if current.data == data:\n",
        "        return i\n",
        "      current = current.next\n",
        "      i += 1\n",
        "    return -1\n",
        "\n",
        "  def delete(self, data): \n",
        "    # Delete only the first occurance\n",
        "    pass\n",
        "  "
      ],
      "execution_count": null,
      "outputs": []
    },
    {
      "cell_type": "code",
      "metadata": {
        "id": "RwF0cgZuffbP"
      },
      "source": [
        "l = [20, 12, 2, 13, 1]\n",
        "linked_list = LinkedList()\n",
        "for i in l[::-1]:\n",
        "  linked_list.insert_at_start(i)"
      ],
      "execution_count": null,
      "outputs": []
    },
    {
      "cell_type": "code",
      "metadata": {
        "colab": {
          "base_uri": "https://localhost:8080/"
        },
        "id": "tpCtz6BHffeQ",
        "outputId": "7554dcd7-20d9-49b2-8317-3a5a2e2cce65"
      },
      "source": [
        "current = linked_list.head\n",
        "i = 0\n",
        "while current is not None:\n",
        "  current = current.next\n",
        "  i += 1"
      ],
      "execution_count": null,
      "outputs": [
        {
          "output_type": "stream",
          "text": [
            "index '0'  element is '20' \n",
            "index '1'  element is '12' \n",
            "index '2'  element is '2' \n",
            "index '3'  element is '13' \n",
            "index '4'  element is '1' \n"
          ],
          "name": "stdout"
        }
      ]
    },
    {
      "cell_type": "code",
      "metadata": {
        "id": "yig0pJDfixEE"
      },
      "source": [
        "ll = LinkedList()"
      ],
      "execution_count": null,
      "outputs": []
    },
    {
      "cell_type": "code",
      "metadata": {
        "id": "YhZ6Gt9NjndZ"
      },
      "source": [
        "class DNode:\n",
        "  def __init__(self, data):\n",
        "    self.prevous = None\n",
        "    self.next = None\n",
        "    self.data = data"
      ],
      "execution_count": null,
      "outputs": []
    },
    {
      "cell_type": "code",
      "metadata": {
        "id": "BrjNMRuEizIj"
      },
      "source": [
        "ll.insert_at_end(10)\n",
        "ll.insert_at_end(1)\n",
        "ll.insert_at_start(20)\n",
        "ll.insert_at_end(9)\n",
        "ll.insert_at_start(2)"
      ],
      "execution_count": null,
      "outputs": []
    },
    {
      "cell_type": "code",
      "metadata": {
        "colab": {
          "base_uri": "https://localhost:8080/"
        },
        "id": "RLF3cfK6izLO",
        "outputId": "2e167798-d524-41b6-fd28-c04d74f6b06b"
      },
      "source": [
        "ll.display()"
      ],
      "execution_count": null,
      "outputs": [
        {
          "output_type": "stream",
          "text": [
            "2=>20=>10=>1=>9\n"
          ],
          "name": "stdout"
        }
      ]
    },
    {
      "cell_type": "code",
      "metadata": {
        "id": "vmjCfDPWizOP"
      },
      "source": [
        ""
      ],
      "execution_count": null,
      "outputs": []
    },
    {
      "cell_type": "markdown",
      "metadata": {
        "id": "Dp0vjKD-XOmv"
      },
      "source": [
        "## Doubly Linked List\n",
        "* A linked List where each node is connected two other nodes\n",
        "* It is possible to traverse from tail to head as well as from head to tail."
      ]
    },
    {
      "cell_type": "markdown",
      "metadata": {
        "id": "Wv1Z01eebaJo"
      },
      "source": [
        "## Practice Question 3\n",
        "Implement Doubly Linked List"
      ]
    },
    {
      "cell_type": "code",
      "metadata": {
        "id": "SszoVo7TzcC6"
      },
      "source": [
        "class DNode:\n",
        "  pass\n",
        "class DLinkedList:\n",
        "  def __int__(self):\n",
        "    pass\n",
        "  def insert_at_start(self, data):\n",
        "    pass\n",
        "  def insert(self, data, index):\n",
        "    pass\n",
        "  def insert_at_end(self, data):\n",
        "    pass\n",
        "  def display(self):\n",
        "    pass\n",
        "  def search(self, data):\n",
        "    pass\n",
        "  def delete(self, data): # Delete only the first occurance\n",
        "    pass"
      ],
      "execution_count": null,
      "outputs": []
    },
    {
      "cell_type": "markdown",
      "metadata": {
        "id": "2DvYwpSYboM7"
      },
      "source": [
        "### Practice Question 4\n",
        "* Implement a function which that accepts a sentence(word) and create Doubly Linked List, where each node coresponds to each characters in the sentence(word)\n",
        "* Create another function which accepts the doubly linked list above and checks if the sentence is palyndrome or not."
      ]
    },
    {
      "cell_type": "markdown",
      "metadata": {
        "id": "aTWzm8YqOq_G"
      },
      "source": [
        "## Stacks\n",
        "\n",
        "* Stacks are abstract datatypes. \n",
        "* Python doesn't provide stack builtin implementations\n",
        "* Last In First Out ADT\n",
        "* Have the following operations\n",
        "  * Push: adds an element on top of the stack\n",
        "  * Pop: removes an element from the top of the stack<br/>\n",
        "  * empty: Checks if the stack is empty\n",
        "  <b>Optionally</b>\n",
        "  * Peek: To see the top elements\n",
        "  * Size: Retrieves the number of elements of the stack\n",
        "\n",
        "\n",
        "\n",
        "\n",
        "### Implementing stacks with list\n",
        "* `append()` method of list for push operation\n",
        "* `pop()` method of list for pop operation\n",
        "* indexing with last index for peek operation\n",
        "* list.__len__() == 0 for empty operation \n",
        "* list.__len__() for size operation\n"
      ]
    },
    {
      "cell_type": "code",
      "metadata": {
        "id": "gO6G2Z3WnxOe"
      },
      "source": [
        "class Stack:\n",
        "  def __init__(self):\n",
        "    self.__collection = list()\n",
        "  def push(self, element):\n",
        "    self.__collection.append(element)\n",
        "  def pop(self):\n",
        "    if self.empty():\n",
        "      return None\n",
        "    return self.__collection.pop()\n",
        "  def empty(self):\n",
        "    return len(self.__collection) == 0\n",
        "  def peek(self):\n",
        "    if self.empty():\n",
        "      return None\n",
        "    return self.__collection[len(self.__collection) - 1]\n"
      ],
      "execution_count": null,
      "outputs": []
    },
    {
      "cell_type": "code",
      "metadata": {
        "colab": {
          "base_uri": "https://localhost:8080/"
        },
        "id": "9lKP1F17mU2K",
        "outputId": "d8a70b0f-f08d-4fd7-8a6d-6a0697278ef5"
      },
      "source": [
        ""
      ],
      "execution_count": null,
      "outputs": [
        {
          "output_type": "execute_result",
          "data": {
            "text/plain": [
              "6"
            ]
          },
          "metadata": {
            "tags": []
          },
          "execution_count": 34
        }
      ]
    },
    {
      "cell_type": "code",
      "metadata": {
        "colab": {
          "base_uri": "https://localhost:8080/"
        },
        "id": "zWsAcxWpmX30",
        "outputId": "c9cd05f1-867b-45e8-d539-7458ac50e05c"
      },
      "source": [
        "l"
      ],
      "execution_count": null,
      "outputs": [
        {
          "output_type": "execute_result",
          "data": {
            "text/plain": [
              "[4]"
            ]
          },
          "metadata": {
            "tags": []
          },
          "execution_count": 35
        }
      ]
    },
    {
      "cell_type": "code",
      "metadata": {
        "id": "yTk7z3X8g1Xi"
      },
      "source": [
        "stack = list()\n",
        "stack.append(\"one\") # Push operation\n",
        "element = stack.pop() # Pop operation\n",
        "print(\"element\", element)\n",
        "print(\"Is empty: \", len(stack)==0) # Empty operation\n",
        "print(\"Size\", len(stack))"
      ],
      "execution_count": null,
      "outputs": []
    },
    {
      "cell_type": "markdown",
      "metadata": {
        "id": "BgUjD36BM4Ct"
      },
      "source": [
        "## Practice question 5\n",
        "* Implement Stack class"
      ]
    },
    {
      "cell_type": "code",
      "metadata": {
        "id": "nd_ltyduNJmw"
      },
      "source": [
        "class Stack(object):\n",
        "  def __init__(self):\n",
        "    pass\n",
        "  def push(self, element):\n",
        "    pass\n",
        "  def pop(self):\n",
        "    pass\n",
        "  def empty(self):\n",
        "    pass\n",
        "  def size(self):\n",
        "    return pass"
      ],
      "execution_count": null,
      "outputs": []
    },
    {
      "cell_type": "markdown",
      "metadata": {
        "id": "u54ATsk80D7Z"
      },
      "source": [
        "## Example Reverse words in Sentence"
      ]
    },
    {
      "cell_type": "markdown",
      "metadata": {
        "id": "7lENVVqT0Ti8"
      },
      "source": [
        "## Checking for valid bracket matching\n",
        "\n",
        "```python\n",
        "isValid(\"{{()}}\")  # True\n",
        "isValid(\"{{(})}\")  # False\n",
        "isValid(\"{}\")  # True\n",
        "\n",
        "\n",
        "```"
      ]
    },
    {
      "cell_type": "code",
      "metadata": {
        "id": "al4NWXo7Pw_k"
      },
      "source": [
        "stack = Stack()"
      ],
      "execution_count": null,
      "outputs": []
    },
    {
      "cell_type": "code",
      "metadata": {
        "colab": {
          "background_save": true
        },
        "id": "I_SHhpk5TJEa"
      },
      "source": [
        "dir(stack)"
      ],
      "execution_count": null,
      "outputs": []
    },
    {
      "cell_type": "code",
      "metadata": {
        "id": "0gPPulnpP7mN"
      },
      "source": [
        "stack.push(1)\n",
        "stack.push(2)\n",
        "stack.push(3)\n",
        "print(stack.pop())\n",
        "stack.push(4)\n",
        "stack.push(5)\n",
        "print(stack.pop())\n"
      ],
      "execution_count": null,
      "outputs": []
    },
    {
      "cell_type": "code",
      "metadata": {
        "id": "5DY7O3RlP7sR"
      },
      "source": [
        "stack.pop()"
      ],
      "execution_count": null,
      "outputs": []
    },
    {
      "cell_type": "code",
      "metadata": {
        "id": "zvuZc6zXP7vH"
      },
      "source": [
        "stack.pop()"
      ],
      "execution_count": null,
      "outputs": []
    },
    {
      "cell_type": "code",
      "metadata": {
        "id": "VJUDUlx1R2TU"
      },
      "source": [
        "stack.pop()"
      ],
      "execution_count": null,
      "outputs": []
    },
    {
      "cell_type": "markdown",
      "metadata": {
        "id": "I_M8SXShauRQ"
      },
      "source": [
        "## Queues\n",
        "* Similar to stack\n",
        "* First In First Out(FIFO) ADT\n",
        "* Python provides [deque objects](https://docs.python.org/3/library/collections.html#collections.defaultdict), to implement queue\n",
        "\n"
      ]
    },
    {
      "cell_type": "markdown",
      "metadata": {
        "id": "A5mwpmlGSC-f"
      },
      "source": [
        "**We** will implement Queue the same way as we implemented Stack. But here we will use deque to instead of list. Deque are more effient[O(1)] to add item to the start index compared with list which requires  O(n) time complexity to add item to the start index."
      ]
    },
    {
      "cell_type": "markdown",
      "metadata": {
        "id": "LCZ3JVwxCyCk"
      },
      "source": [
        "Queues can be implemented in different ways. For simplicty we will use lists to implement Queues. Note that removing an element from front(start index) is O(n). So this implementation is not efficient as other implementation you might find. One efficient way to implement queue is using deque. This data-structures are optimized to remove and add items from both ends.\n"
      ]
    },
    {
      "cell_type": "code",
      "metadata": {
        "id": "xchwta4-CvN8"
      },
      "source": [
        "class Queue:\n",
        "\n",
        "  def __init__(self):\n",
        "    self.__collection = list()\n",
        "  def enque(self, item):\n",
        "    self.__collection.append(item)\n",
        "  def deque(self):\n",
        "    item = self.__collection[0]\n",
        "    self.__collection = self.__collection[1:]\n",
        "    return item\n",
        "  def empty(self):\n",
        "    return self.size() == 0\n",
        "  def size(self):\n",
        "    return len(self.__collection)\n",
        "    "
      ],
      "execution_count": null,
      "outputs": []
    },
    {
      "cell_type": "code",
      "metadata": {
        "id": "trQlA4jwIBiy"
      },
      "source": [
        ""
      ],
      "execution_count": null,
      "outputs": []
    },
    {
      "cell_type": "markdown",
      "metadata": {
        "id": "4WyQXeNbK4Dd"
      },
      "source": [
        "## Operator Over loading\n",
        "\n",
        "Follow [here](https://docs.python.org/3/library/operator.html)\n",
        "\n",
        "### Practice Question Implementing Vector Data structure\n",
        "\n",
        "\n",
        "* Create a class Vector to Rerpresent vectors in Vector space\n",
        "* The class's initializer should accept a list containing numbers\n",
        "* Vector has the following attributes\n",
        "  * elements # List of numbers\n",
        "  * dim # The dimension of the vector\n",
        "* Multiplication by scalar(Implement right side scalar multiplication as follows)\n",
        "  $$V * a\n",
        "  $$\n",
        "* Dot product ( Use @ as dot product operator)\n",
        "  $$\\mathbf{x}@\\mathbf{y}$$\n",
        "* Addition/subtraction\n",
        "* method called `norm()` to get the l2 norm of the vector"
      ]
    },
    {
      "cell_type": "code",
      "metadata": {
        "id": "4Ss4nzyHYuLj"
      },
      "source": [
        "import numpy as np\n",
        "class Vector:\n",
        "  def __init__(self,vector):\n",
        "    self.vector=np.array(vector)\n",
        "  def __mul__(self,a):\n",
        "    mul=self.vector*a\n",
        "    return mul\n",
        "  def __matmul__(self,other):\n",
        "    return self.vector@other.vector\n",
        "  def __add__(self,other):\n",
        "    return self.vector + other.vector\n",
        "  def __sub__(self,other):\n",
        "    return self.vector - other.vector\n",
        "  def norm(self):\n",
        "    return np.sum((self.vector)**0.5)"
      ],
      "execution_count": null,
      "outputs": []
    },
    {
      "cell_type": "code",
      "metadata": {
        "colab": {
          "base_uri": "https://localhost:8080/"
        },
        "id": "LXrI69uDaUtt",
        "outputId": "4f840110-2105-4ae1-b17f-4af93c49b717"
      },
      "source": [
        "vector=Vector([1,2,3])\n",
        "a=2\n",
        "print(Vector.__mul__(vector,2))\n",
        "b=Vector([2,3,4])\n",
        "print(Vector.__matmul__(vector,b))\n",
        "print(Vector.__add__(vector,b))\n",
        "print(Vector.__sub__(vector,b))\n",
        "print(Vector.norm(vector))\n",
        "\n"
      ],
      "execution_count": null,
      "outputs": [
        {
          "output_type": "stream",
          "text": [
            "[2 4 6]\n",
            "20\n",
            "[3 5 7]\n",
            "[-1 -1 -1]\n",
            "4.146264369941973\n"
          ],
          "name": "stdout"
        }
      ]
    },
    {
      "cell_type": "markdown",
      "metadata": {
        "id": "quwepeysduEn"
      },
      "source": [
        "### Practice Question: Implementing Matrix datastructure\n",
        "\n",
        "* Create a class Matrix to Rerpresent Matrix objects\n",
        "* The class's initializer should accept a nested list containing numbers\n",
        "* Vector has the following attributes\n",
        "  * elements(List of List of numbers)\n",
        "  * shape # The dimensions of the matrix\n",
        "* Multiplication by scalar(Implement right side scalar multiplication as follows)\n",
        "  $$V * a\n",
        "  $$\n",
        "* The Matrix multiplication should work with vectors also\n",
        "* Matrix multiplication ( Use @ as matrix maltiplication operator)\n",
        "  $$\\mathbf{x}@\\mathbf{y}$$\n",
        "  \n",
        "* Addition/subtraction\n",
        "* method called `norm()` to get the Frobenius norm of the matrix\n",
        "* method called `transpose()` to get the transpose of a matrix\n",
        "* method called `trace()` to get the trace of the matrix\n",
        "\n",
        "\n",
        "\n",
        "\n",
        "\n",
        "\n",
        "\n",
        "\n",
        "\n",
        "\n"
      ]
    },
    {
      "cell_type": "code",
      "metadata": {
        "id": "JU3LAUadfbBp"
      },
      "source": [
        "import numpy as np\n",
        "class Matrix:\n",
        "  def __init__(self,matrix):\n",
        "    self.matrix=np.array(matrix)\n",
        "  def __mul__(self,a):\n",
        "    mul=self.matrix*a\n",
        "    return mul\n",
        "  def __matmul__(self,other):\n",
        "    return self.matrix*other.matrix\n",
        "  def __add__(self,other):\n",
        "    return self.matrix + other.matrix\n",
        "  def __sub__(self,other):\n",
        "    return self.matrix - other.matrix\n",
        "  def norm(self):\n",
        "    return np.sum((self.matrix)**0.5)\n",
        "  def norm(self):\n",
        "    return np.sum((self.matrix)**0.5)\n",
        "  def norm(self):\n",
        "    return np.sum((self.matrix)**0.5)"
      ],
      "execution_count": null,
      "outputs": []
    },
    {
      "cell_type": "code",
      "metadata": {
        "colab": {
          "base_uri": "https://localhost:8080/"
        },
        "id": "V3Lr1NDSgA38",
        "outputId": "2a86a8a0-dfc0-4c53-eedf-75bb10edec05"
      },
      "source": [
        "matrix=Matrix([[1,2,3],[2,4,5]])\n",
        "a=2\n",
        "print(Matrix.__mul__(matrix,2))\n",
        "c=Matrix([[2,3,4],[5,6,7]])\n",
        "print(Matrix.__matmul__(matrix,c))\n",
        "print(Matrix.__add__(matrix,c))\n",
        "print(Matrix.__sub__(matrix,c))\n",
        "print(Matrix.norm(matrix))\n",
        "print(Matrix.norm(matrix))\n",
        "print(Matrix.norm(matrix))\n",
        "\n"
      ],
      "execution_count": null,
      "outputs": [
        {
          "output_type": "stream",
          "text": [
            "[[ 2  4  6]\n",
            " [ 4  8 10]]\n",
            "[[ 2  6 12]\n",
            " [10 24 35]]\n",
            "[[ 3  5  7]\n",
            " [ 7 10 12]]\n",
            "[[-1 -1 -1]\n",
            " [-3 -2 -2]]\n",
            "9.796545909814856\n"
          ],
          "name": "stdout"
        }
      ]
    },
    {
      "cell_type": "code",
      "metadata": {
        "id": "KRUTsvCI7V3Z"
      },
      "source": [
        "class Point2D:\n",
        "  def __init__(self, x, y):\n",
        "    self.x = x\n",
        "    self.y = y\n",
        "  def __repr__(self):\n",
        "    return (\"Point({}, {})\".format(self.x, self.y))\n",
        "  def __str__(self):\n",
        "    return repr(self)\n",
        "  def __add__(self, other):\n",
        "    x = self.x + other.x\n",
        "    y = self.y + other.y\n",
        "    return Point2D(x, y)\n",
        "\n",
        "\n",
        "  "
      ],
      "execution_count": null,
      "outputs": []
    },
    {
      "cell_type": "code",
      "metadata": {
        "colab": {
          "base_uri": "https://localhost:8080/"
        },
        "id": "Pbp1SU-MsBsg",
        "outputId": "a1870c4b-2570-4e5b-dec5-9a7c68c9c2d9"
      },
      "source": [
        "point = Point2D(3, 10.8)\n",
        "print(point)"
      ],
      "execution_count": null,
      "outputs": [
        {
          "output_type": "stream",
          "text": [
            "Point(3, 10.8)\n"
          ],
          "name": "stdout"
        }
      ]
    },
    {
      "cell_type": "code",
      "metadata": {
        "id": "IVMKiuOMsHaQ"
      },
      "source": [
        "p2 = Point2D(10, 27)\n"
      ],
      "execution_count": null,
      "outputs": []
    },
    {
      "cell_type": "code",
      "metadata": {
        "colab": {
          "base_uri": "https://localhost:8080/"
        },
        "id": "dq7GgNF0sN5K",
        "outputId": "bbc6e399-d407-472d-f0eb-bd5026fa639c"
      },
      "source": [
        "point + p2"
      ],
      "execution_count": null,
      "outputs": [
        {
          "output_type": "execute_result",
          "data": {
            "text/plain": [
              "Point(13, 37.8)"
            ]
          },
          "metadata": {
            "tags": []
          },
          "execution_count": 45
        }
      ]
    },
    {
      "cell_type": "code",
      "metadata": {
        "id": "8zIQpx1HSORr"
      },
      "source": [
        "class Vector:\n",
        "  def __init__(self, vector):\n",
        "    self.vector = vector\n",
        "    \n",
        "  def __mul__(self, a):\n",
        "    l=list()\n",
        "    for i in self.vector:\n",
        "      l.append(a*i)\n",
        "    return l\n",
        "  def __matmul__(self,other):\n",
        "    s=0\n",
        "    for i in range(len(self.vector)):\n",
        "      s+=self.vector[i]*other.vector[i]\n",
        "    return s\n",
        "  def __add__(self,other):\n",
        "    m=list()\n",
        "    for i,j in (zip(self.vector,other.vector)):\n",
        "      k=i+j\n",
        "      m.append(k)\n",
        "    return m\n",
        "  def norm (self):\n",
        "    s=0\n",
        "    for i in range(len(self.vector)):\n",
        "      s+=self.vector[i]**2\n",
        "\n",
        "    return s**0.5\n",
        "\n"
      ],
      "execution_count": null,
      "outputs": []
    },
    {
      "cell_type": "code",
      "metadata": {
        "colab": {
          "base_uri": "https://localhost:8080/"
        },
        "id": "J-_UJCEnUenY",
        "outputId": "a870a5ce-af48-4949-852c-19a3e153c164"
      },
      "source": [
        "vector=Vector([1,2,3])\n",
        "a=2\n",
        "vector*a"
      ],
      "execution_count": null,
      "outputs": [
        {
          "output_type": "execute_result",
          "data": {
            "text/plain": [
              "[2, 4, 6]"
            ]
          },
          "metadata": {
            "tags": []
          },
          "execution_count": 80
        }
      ]
    },
    {
      "cell_type": "code",
      "metadata": {
        "colab": {
          "base_uri": "https://localhost:8080/"
        },
        "id": "7gPaSEJTcED8",
        "outputId": "413a05a2-9b5d-4792-a73c-0e1d525b3765"
      },
      "source": [
        "vector=Vector([1,2,3])\n",
        "vector1=Vector([3,5,6])\n",
        "vector@vector1"
      ],
      "execution_count": null,
      "outputs": [
        {
          "output_type": "execute_result",
          "data": {
            "text/plain": [
              "31"
            ]
          },
          "metadata": {
            "tags": []
          },
          "execution_count": 81
        }
      ]
    },
    {
      "cell_type": "code",
      "metadata": {
        "colab": {
          "base_uri": "https://localhost:8080/"
        },
        "id": "lgeOnobDbtmp",
        "outputId": "3259e307-d0ec-4655-b878-0b07edf135c4"
      },
      "source": [
        "vector + vector1"
      ],
      "execution_count": null,
      "outputs": [
        {
          "output_type": "execute_result",
          "data": {
            "text/plain": [
              "[4, 7, 9]"
            ]
          },
          "metadata": {
            "tags": []
          },
          "execution_count": 82
        }
      ]
    },
    {
      "cell_type": "code",
      "metadata": {
        "colab": {
          "base_uri": "https://localhost:8080/"
        },
        "id": "iR6FEbxkgF_U",
        "outputId": "19229585-b216-4669-9a84-94b44410e75a"
      },
      "source": [
        "vector.norm()"
      ],
      "execution_count": null,
      "outputs": [
        {
          "output_type": "execute_result",
          "data": {
            "text/plain": [
              "3.7416573867739413"
            ]
          },
          "metadata": {
            "tags": []
          },
          "execution_count": 83
        }
      ]
    },
    {
      "cell_type": "code",
      "metadata": {
        "id": "bVEZ_3-lmx-q"
      },
      "source": [
        "class Matrix:\n",
        "  def __init__(self, matrix):\n",
        "    self.matrix=np.array(matrix)\n",
        "    \n",
        "    #self.dim=dim\n",
        "  def __mul__(self, a):\n",
        "    l=list()\n",
        "    for i in self.matrix:\n",
        "           l.append(i*a)\n",
        "    return l\n",
        "  def __matmul__(self,other):\n",
        "    s=0\n",
        "    for i in range(len(self.vector)):\n",
        "      s+=self.vector[i]*other.vector[i]\n",
        "    return s\n",
        "  def __add__(self,other):\n",
        "    m=list()\n",
        "    for i,j in (zip(self.vector,other.vector)):\n",
        "      k=i+j\n",
        "      m.append(k)\n",
        "    return m\n",
        "  def norm (self):\n",
        "    s=0\n",
        "    for i in range(len(self.vector)):\n",
        "      s+=self.vector[i]**2\n",
        "\n",
        "    return s**0.5\n",
        "\n"
      ],
      "execution_count": null,
      "outputs": []
    },
    {
      "cell_type": "code",
      "metadata": {
        "colab": {
          "base_uri": "https://localhost:8080/"
        },
        "id": "dVmEnxES7Ma3",
        "outputId": "35f6b765-9735-4d64-b169-257e8d06472b"
      },
      "source": [
        "np.arange"
      ],
      "execution_count": null,
      "outputs": [
        {
          "output_type": "execute_result",
          "data": {
            "text/plain": [
              "<function numpy.arange>"
            ]
          },
          "metadata": {
            "tags": []
          },
          "execution_count": 194
        }
      ]
    },
    {
      "cell_type": "code",
      "metadata": {
        "colab": {
          "base_uri": "https://localhost:8080/"
        },
        "id": "r8wjYNW_Omrm",
        "outputId": "0f855b4a-2379-48ae-c74f-777da9223f28"
      },
      "source": [
        "matrix=Matrix([[1,2],[3,4]])\n",
        "\n",
        "Matrix.__mul__(matrix,2)"
      ],
      "execution_count": null,
      "outputs": [
        {
          "output_type": "execute_result",
          "data": {
            "text/plain": [
              "[array([2, 4]), array([6, 8])]"
            ]
          },
          "metadata": {
            "tags": []
          },
          "execution_count": 195
        }
      ]
    },
    {
      "cell_type": "code",
      "metadata": {
        "id": "2Bq9ef9LPDJD"
      },
      "source": [
        "matrix2=[[1,4],[6,7]]"
      ],
      "execution_count": null,
      "outputs": []
    },
    {
      "cell_type": "code",
      "metadata": {
        "colab": {
          "base_uri": "https://localhost:8080/",
          "height": 164
        },
        "id": "K_UlxvGmPJfO",
        "outputId": "63966371-02f7-425e-c4a7-8bc6e8d63b18"
      },
      "source": [
        "matrix@matrix2"
      ],
      "execution_count": null,
      "outputs": [
        {
          "output_type": "error",
          "ename": "TypeError",
          "evalue": "ignored",
          "traceback": [
            "\u001b[0;31m---------------------------------------------------------------------------\u001b[0m",
            "\u001b[0;31mTypeError\u001b[0m                                 Traceback (most recent call last)",
            "\u001b[0;32m<ipython-input-12-d04caf64be48>\u001b[0m in \u001b[0;36m<module>\u001b[0;34m()\u001b[0m\n\u001b[0;32m----> 1\u001b[0;31m \u001b[0mmatrix\u001b[0m\u001b[0;34m@\u001b[0m\u001b[0mmatrix2\u001b[0m\u001b[0;34m\u001b[0m\u001b[0;34m\u001b[0m\u001b[0m\n\u001b[0m",
            "\u001b[0;31mTypeError\u001b[0m: unsupported operand type(s) for @: 'Matrix' and 'list'"
          ]
        }
      ]
    },
    {
      "cell_type": "code",
      "metadata": {
        "id": "5a8OK30jPOiK"
      },
      "source": [
        ""
      ],
      "execution_count": null,
      "outputs": []
    }
  ]
}