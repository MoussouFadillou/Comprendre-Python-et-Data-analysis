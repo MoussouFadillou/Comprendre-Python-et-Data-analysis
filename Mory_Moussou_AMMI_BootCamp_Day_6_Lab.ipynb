{
  "nbformat": 4,
  "nbformat_minor": 0,
  "metadata": {
    "colab": {
      "name": "Mory_Moussou_AMMI_BootCamp_Day_6_Lab.ipynb",
      "provenance": [],
      "collapsed_sections": []
    },
    "kernelspec": {
      "name": "python3",
      "display_name": "Python 3"
    }
  },
  "cells": [
    {
      "cell_type": "markdown",
      "metadata": {
        "id": "OMEZwkVfuAQw"
      },
      "source": [
        "<a href='https://aims-senegal.org/'> <img src='http://sn.nexteinstein.org/wp-content/uploads/sites/12/2016/07/aims_senegal.jpg' /></a>"
      ]
    },
    {
      "cell_type": "code",
      "metadata": {
        "id": "gmHCp3XmxPuD"
      },
      "source": [
        "# run this cell first\n",
        "import numpy as np"
      ],
      "execution_count": null,
      "outputs": []
    },
    {
      "cell_type": "markdown",
      "metadata": {
        "id": "rrfzDGdlzNsp"
      },
      "source": [
        "\n",
        "\n",
        "---\n",
        "\n",
        "\n",
        "\n",
        "---\n",
        "\n",
        "\n",
        "\n",
        "---\n",
        "\n"
      ]
    },
    {
      "cell_type": "markdown",
      "metadata": {
        "id": "HphSexHJFi1T"
      },
      "source": [
        "# Exercise A:\n",
        "\n",
        "\n"
      ]
    },
    {
      "cell_type": "markdown",
      "metadata": {
        "id": "Y_OjrWqbGTyq"
      },
      "source": [
        "### 1- Construct a Ndarray  of shape (3, 2) filled with **8**, Then set element (0, 1) to 10, and element (1, 0) to 100"
      ]
    },
    {
      "cell_type": "code",
      "metadata": {
        "id": "EYrWwRP5GJJv",
        "colab": {
          "base_uri": "https://localhost:8080/"
        },
        "outputId": "c76a8b8e-e67b-4a9c-aedb-275574d27094"
      },
      "source": [
        "################################################################################\n",
        "#                              START OF YOUR CODE                                #\n",
        "################################################################################\n",
        "\n",
        "\n",
        "A=np.array([[8,8],[8,8],[8,8]])\n",
        "A\n",
        "A[0,1]=10\n",
        "A\n",
        "A[1,0]=100\n",
        "A\n",
        " \n",
        "################################################################################\n",
        "#                              END OF YOUR CODE                                #\n",
        "################################################################################"
      ],
      "execution_count": null,
      "outputs": [
        {
          "output_type": "execute_result",
          "data": {
            "text/plain": [
              "array([[  8,  10],\n",
              "       [100,   8],\n",
              "       [  8,   8]])"
            ]
          },
          "metadata": {
            "tags": []
          },
          "execution_count": 162
        }
      ]
    },
    {
      "cell_type": "markdown",
      "metadata": {
        "id": "AhNeVAJeGVwS"
      },
      "source": [
        "### 2- Create a 64-bit floating-point Ndarray of shape (6,) (six-element vector) filled with evenly-spaced values between 10 and 20. "
      ]
    },
    {
      "cell_type": "code",
      "metadata": {
        "id": "RxTXO9H6Goc0",
        "colab": {
          "base_uri": "https://localhost:8080/"
        },
        "outputId": "4ff971d9-8f3e-4bbd-e51f-f09a8cbe2b49"
      },
      "source": [
        "################################################################################\n",
        "#                              START OF YOUR CODE                                #\n",
        "################################################################################\n",
        "\n",
        "\n",
        "B= np.array([10.,12.,14.,16.,18.])\n",
        "B\n",
        " \n",
        "################################################################################\n",
        "#                              END OF YOUR CODE                                #\n",
        "################################################################################"
      ],
      "execution_count": null,
      "outputs": [
        {
          "output_type": "execute_result",
          "data": {
            "text/plain": [
              "array([10., 12., 14., 16., 18.])"
            ]
          },
          "metadata": {
            "tags": []
          },
          "execution_count": 163
        }
      ]
    },
    {
      "cell_type": "markdown",
      "metadata": {
        "id": "JKVAKcUSGq4G"
      },
      "source": [
        "### 3- Create a vector with values ranging from 10 to 49"
      ]
    },
    {
      "cell_type": "code",
      "metadata": {
        "id": "xo6Jeuk_HcRJ",
        "colab": {
          "base_uri": "https://localhost:8080/"
        },
        "outputId": "c0c9efb5-1479-4d9f-d26c-20b1b9220995"
      },
      "source": [
        "################################################################################\n",
        "#                              START OF YOUR CODE                                #\n",
        "################################################################################\n",
        "\n",
        "C=np.arange(0,50)\n",
        "C\n",
        "#your code should be here\n",
        " \n",
        "################################################################################\n",
        "#                              END OF YOUR CODE                                #\n",
        "################################################################################"
      ],
      "execution_count": null,
      "outputs": [
        {
          "output_type": "execute_result",
          "data": {
            "text/plain": [
              "array([ 0,  1,  2,  3,  4,  5,  6,  7,  8,  9, 10, 11, 12, 13, 14, 15, 16,\n",
              "       17, 18, 19, 20, 21, 22, 23, 24, 25, 26, 27, 28, 29, 30, 31, 32, 33,\n",
              "       34, 35, 36, 37, 38, 39, 40, 41, 42, 43, 44, 45, 46, 47, 48, 49])"
            ]
          },
          "metadata": {
            "tags": []
          },
          "execution_count": 14
        }
      ]
    },
    {
      "cell_type": "markdown",
      "metadata": {
        "id": "o9TGRU4SHmXC"
      },
      "source": [
        "### 4- Create a 3x3 matrix with values ranging from 0 to 8"
      ]
    },
    {
      "cell_type": "code",
      "metadata": {
        "id": "9zLNT9s5HegE",
        "colab": {
          "base_uri": "https://localhost:8080/"
        },
        "outputId": "8d157bc3-add3-44a4-8375-5db3564043a8"
      },
      "source": [
        "################################################################################\n",
        "#                              START OF YOUR CODE                                #\n",
        "################################################################################\n",
        "\n",
        "D=np.arange(0,9).reshape(3,3)\n",
        "D\n",
        "#your code should be here\n",
        " \n",
        "################################################################################\n",
        "#                              END OF YOUR CODE                                #\n",
        "################################################################################"
      ],
      "execution_count": null,
      "outputs": [
        {
          "output_type": "execute_result",
          "data": {
            "text/plain": [
              "array([[0, 1, 2],\n",
              "       [3, 4, 5],\n",
              "       [6, 7, 8]])"
            ]
          },
          "metadata": {
            "tags": []
          },
          "execution_count": 16
        }
      ]
    },
    {
      "cell_type": "markdown",
      "metadata": {
        "id": "cBO_WV_UH6S0"
      },
      "source": [
        "### 5- Create a 10x10 array with random values and print the trace value and the mean values of each row"
      ]
    },
    {
      "cell_type": "code",
      "metadata": {
        "id": "YUYulMHjH_Nu",
        "colab": {
          "base_uri": "https://localhost:8080/"
        },
        "outputId": "1c4d89b3-cd65-455d-be88-26ec7f77fba3"
      },
      "source": [
        "################################################################################\n",
        "#                              START OF YOUR CODE                                #\n",
        "################################################################################\n",
        "\n",
        "E= np.random.random((10,10))\n",
        "#E\n",
        "print('trace of E:' ,np.trace(E))\n",
        "\n",
        "print(\"mean are:\", np.mean(E,axis=1))\n",
        "\n",
        " \n",
        "################################################################################\n",
        "#                              END OF YOUR CODE                                #\n",
        "################################################################################"
      ],
      "execution_count": null,
      "outputs": [
        {
          "output_type": "stream",
          "text": [
            "trace of E: 4.148427866223175\n",
            "mean are: [0.6368182  0.49748147 0.63543687 0.56605807 0.48487104 0.40746587\n",
            " 0.31520722 0.43676683 0.43379251 0.59077924]\n"
          ],
          "name": "stdout"
        }
      ]
    },
    {
      "cell_type": "markdown",
      "metadata": {
        "id": "stsLWALeIy2E"
      },
      "source": [
        "### 6- Create a Ndarray array of size (5, 5) with all **1** on the borders and all **0** in the inside\n"
      ]
    },
    {
      "cell_type": "code",
      "metadata": {
        "id": "oo1o0TIVJH91",
        "colab": {
          "base_uri": "https://localhost:8080/"
        },
        "outputId": "61238985-ac8c-4527-e8e9-fa4eddb8c812"
      },
      "source": [
        "################################################################################\n",
        "#                              START OF YOUR CODE                                #\n",
        "################################################################################\n",
        "\n",
        "F=np.ones((5,5))\n",
        "F[1:-1,1:-1]=0\n",
        "F\n",
        "#your code should be here\n",
        " \n",
        "################################################################################\n",
        "#                              END OF YOUR CODE                                #\n",
        "################################################################################"
      ],
      "execution_count": null,
      "outputs": [
        {
          "output_type": "execute_result",
          "data": {
            "text/plain": [
              "array([[1., 1., 1., 1., 1.],\n",
              "       [1., 0., 0., 0., 1.],\n",
              "       [1., 0., 0., 0., 1.],\n",
              "       [1., 0., 0., 0., 1.],\n",
              "       [1., 1., 1., 1., 1.]])"
            ]
          },
          "metadata": {
            "tags": []
          },
          "execution_count": 108
        }
      ]
    },
    {
      "cell_type": "markdown",
      "metadata": {
        "id": "b2RIrBwHNW0T"
      },
      "source": [
        "### 7- Create random vector of size 10 and replace the maximum value by 0"
      ]
    },
    {
      "cell_type": "code",
      "metadata": {
        "id": "_XeAoZQXNc0q",
        "colab": {
          "base_uri": "https://localhost:8080/"
        },
        "outputId": "b48e47ec-e5bf-4807-ce9a-02a229edfa2d"
      },
      "source": [
        "################################################################################\n",
        "#                              START OF YOUR CODE                                #\n",
        "################################################################################\n",
        "\n",
        "\n",
        "G=np.random.random(10)\n",
        "G\n",
        "G[G.argmax()]=0\n",
        "G\n",
        " \n",
        "################################################################################\n",
        "#                              END OF YOUR CODE                                #\n",
        "################################################################################"
      ],
      "execution_count": null,
      "outputs": [
        {
          "output_type": "execute_result",
          "data": {
            "text/plain": [
              "array([0.18206609, 0.50143434, 0.        , 0.83987777, 0.41158287,\n",
              "       0.73165467, 0.54811184, 0.08702268, 0.46175005, 0.05952296])"
            ]
          },
          "metadata": {
            "tags": []
          },
          "execution_count": 165
        }
      ]
    },
    {
      "cell_type": "markdown",
      "metadata": {
        "id": "ugzcoy0MJW6t"
      },
      "source": [
        "### 8- Normalize a 5x5 random matrix\n",
        "Hint: subtract the mean and devide by the standard deviation"
      ]
    },
    {
      "cell_type": "code",
      "metadata": {
        "id": "7RoQFsPdJ3k1",
        "colab": {
          "base_uri": "https://localhost:8080/"
        },
        "outputId": "6fa3ba00-7a78-4ea0-846f-0055c8c808cf"
      },
      "source": [
        "################################################################################\n",
        "#                              START OF YOUR CODE                                #\n",
        "################################################################################\n",
        "I= np.random.randn(5,5) \n",
        "\n",
        "(I - I.mean())/np.sqrt(I.std())\n",
        " \n",
        "################################################################################\n",
        "#                              END OF YOUR CODE                                #\n",
        "################################################################################"
      ],
      "execution_count": null,
      "outputs": [
        {
          "output_type": "execute_result",
          "data": {
            "text/plain": [
              "array([[ 0.17270262,  0.2767391 ,  0.82068609, -0.15450103,  0.0609364 ],\n",
              "       [-1.88925065, -1.50508094, -2.23011401, -1.18581722, -0.18715493],\n",
              "       [ 1.58849131,  0.99960708,  0.26978427,  0.58008668, -2.24740567],\n",
              "       [ 0.60471047,  0.2970647 ,  0.66333914,  0.46347219,  0.69733965],\n",
              "       [ 1.06118308, -1.23656335,  2.05989522, -0.16067084,  0.18052065]])"
            ]
          },
          "metadata": {
            "tags": []
          },
          "execution_count": 166
        }
      ]
    },
    {
      "cell_type": "markdown",
      "metadata": {
        "id": "iiOCoeT2JXZc"
      },
      "source": [
        "### 9- Create a random 5x2 matrix representing cartesian coordinates and print an array **\"polar\"** with same shape representing the converted polar coordinates.\n",
        "\n",
        "Hints:\n",
        "\n",
        "X represent the first column.\n",
        "\n",
        "Y represent the second column.\n",
        "\n",
        "Compute:\n",
        "\n",
        "$$ R = \\sqrt{X^2 + Y^2} $$\n",
        "\n",
        "$$ T = \\arctan{(Y, X)} $$\n"
      ]
    },
    {
      "cell_type": "code",
      "metadata": {
        "id": "TbUE_U-xMXV8",
        "colab": {
          "base_uri": "https://localhost:8080/"
        },
        "outputId": "5b00ac12-1f3e-4bfa-9c49-72bb62b5e933"
      },
      "source": [
        "################################################################################\n",
        "#                              START OF YOUR CODE                                #\n",
        "################################################################################\n",
        "K=np.random.random((5,2))\n",
        "K\n",
        "K[:,1]\n",
        "#K\n",
        "R=np.sqrt((K[:,0])**2 + (K[:,1])**2)\n",
        "\n",
        "T=np.arctan(K[:,0],K[:,1])\n",
        "print(R)\n",
        "print(T)\n",
        "\n",
        "\n",
        " \n",
        "################################################################################\n",
        "#                              END OF YOUR CODE                                #\n",
        "################################################################################"
      ],
      "execution_count": null,
      "outputs": [
        {
          "output_type": "stream",
          "text": [
            "[0.48035886 1.17609544 1.06501186 1.31511873 0.28193848]\n",
            "[0.30929026 0.66850123 0.49685218 0.73644992 0.2505669 ]\n"
          ],
          "name": "stdout"
        }
      ]
    },
    {
      "cell_type": "markdown",
      "metadata": {
        "id": "Hf8qYHpwjwEM"
      },
      "source": [
        "\n",
        "\n",
        "---\n",
        "\n",
        "\n",
        "\n",
        "---\n",
        "\n",
        "\n",
        "\n",
        "---\n",
        "\n"
      ]
    },
    {
      "cell_type": "markdown",
      "metadata": {
        "id": "VcrY3EvaeElV"
      },
      "source": [
        "### 10- Write a function that normalizes the columns of a matrix. It should compute the mean and standard deviation of each column, then subtract the mean and divide by the standard deviation for each element in the column. \n",
        "\n",
        "Example:\n",
        "```\n",
        "x = [[ 0,  30,  600],\n",
        "     [ 1,  10,  200],\n",
        "     [-1,  20,  400]]\n",
        "```\n",
        "- The first column has mean 0 and std 1\n",
        "- The second column has mean 20 and std 10\n",
        "- The third column has mean 400 and std 200\n",
        "\n",
        "After normalizing the columns, the result should be:\n",
        "```\n",
        "y = [[ 0,  1,  1],\n",
        "     [ 1, -1, -1],\n",
        "     [-1,  0,  0]]\n",
        "```\n",
        "\n",
        "Your implementation should not use any loops; instead you should use reduction and broadcasting operations."
      ]
    },
    {
      "cell_type": "code",
      "metadata": {
        "id": "1Hw72yb3eGiG"
      },
      "source": [
        "\n",
        "\n",
        "def normalize_columns(x):\n",
        "\n",
        "  q=(x- np.mean(x,axis=0))/np.std(x,axis=0)\n",
        "  return q\n",
        "\n"
      ],
      "execution_count": null,
      "outputs": []
    },
    {
      "cell_type": "code",
      "metadata": {
        "colab": {
          "base_uri": "https://localhost:8080/"
        },
        "id": "_9QfiTMoI9Vh",
        "outputId": "a1fddffa-14d7-4171-f932-3af42e0dbb66"
      },
      "source": [
        "x=  [[ 0,  30,  600],\n",
        "     [ 1,  10,  200],\n",
        "     [-1,  20,  400]]\n",
        "normalize_columns(x)"
      ],
      "execution_count": null,
      "outputs": [
        {
          "output_type": "execute_result",
          "data": {
            "text/plain": [
              "array([[ 0.        ,  1.22474487,  1.22474487],\n",
              "       [ 1.22474487, -1.22474487, -1.22474487],\n",
              "       [-1.22474487,  0.        ,  0.        ]])"
            ]
          },
          "metadata": {
            "tags": []
          },
          "execution_count": 104
        }
      ]
    },
    {
      "cell_type": "code",
      "metadata": {
        "id": "AhMuCL9AfcFH",
        "colab": {
          "base_uri": "https://localhost:8080/"
        },
        "outputId": "bb4acf38-de6d-4a3c-81c8-d60b46604f14"
      },
      "source": [
        "x0 = np.array([[0., 30., 600.], [1., 10., 200.], [-1., 20., 400.]])\n",
        "y0 = normalize_columns(x0)\n",
        "print('Here is x0:')\n",
        "print(x0)\n",
        "print('Here is y0:')\n",
        "print(y0)\n",
        "assert y0.tolist() == [[0., 1.224744871391589, 1.224744871391589], [1.224744871391589, -1.224744871391589, -1.224744871391589], [-1.224744871391589, 0., 0.]]\n",
        "assert x0.tolist() == [[0., 30., 600.], [1., 10., 200.], [-1., 20., 400.]]"
      ],
      "execution_count": null,
      "outputs": [
        {
          "output_type": "stream",
          "text": [
            "Here is x0:\n",
            "[[  0.  30. 600.]\n",
            " [  1.  10. 200.]\n",
            " [ -1.  20. 400.]]\n",
            "Here is y0:\n",
            "[[ 0.          1.22474487  1.22474487]\n",
            " [ 1.22474487 -1.22474487 -1.22474487]\n",
            " [-1.22474487  0.          0.        ]]\n"
          ],
          "name": "stdout"
        }
      ]
    },
    {
      "cell_type": "markdown",
      "metadata": {
        "id": "lnq9TiIcjtfo"
      },
      "source": [
        "\n",
        "\n",
        "---\n",
        "\n",
        "\n",
        "\n",
        "---\n",
        "\n",
        "\n",
        "\n",
        "---\n",
        "\n"
      ]
    },
    {
      "cell_type": "markdown",
      "metadata": {
        "id": "5cgmy-NcMnVQ"
      },
      "source": [
        "### 11- creates a function that returns a matrix of **one-hot vectors** from a list of Python integers. A one-hot vector for an integer $n$ is a vector that has a one in its $n$th slot, and zeros in all other slots. One-hot vectors are commonly used to represent categorical variables in machine learning models.\n",
        "\n",
        "### For example, given a list `[1, 4, 3, 2]` of integers, your function should produce the tensor:\n",
        "\n",
        "```\n",
        "[[0 1 0 0 0],\n",
        " [0 0 0 0 1],\n",
        " [0 0 0 1 0],\n",
        " [0 0 1 0 0]]\n",
        "```\n",
        "\n",
        "### Here the first row corresponds to the first element of the list: it has a one at index 1, and zeros at all other indices. The second row corresponds to the second element of the list: it has a one at index 4, and zeros at all other indices. The other rows follow the same pattern. "
      ]
    },
    {
      "cell_type": "code",
      "metadata": {
        "id": "PVF3dD8_M_iv"
      },
      "source": [
        "################################################################################\n",
        "#                              START OF YOUR CODE                                #\n",
        "################################################################################\n",
        "def make_one_hot(x):\n",
        " H = np.zeros((x.size, x.size+1))\n",
        " H[np.arange(x.size),x] = 1\n",
        " return H\n",
        "\n",
        "  \n",
        " \n",
        "################################################################################\n",
        "#                              END OF YOUR CODE                                #\n",
        "################################################################################"
      ],
      "execution_count": null,
      "outputs": []
    },
    {
      "cell_type": "code",
      "metadata": {
        "colab": {
          "base_uri": "https://localhost:8080/"
        },
        "id": "bZfJPaiQQnOO",
        "outputId": "403e37c7-097b-492c-85dd-6f9a747c34e6"
      },
      "source": [
        "x=np.array([1,4,3,2])\n",
        "make_one_hot(x)"
      ],
      "execution_count": null,
      "outputs": [
        {
          "output_type": "execute_result",
          "data": {
            "text/plain": [
              "array([[0., 1., 0., 0., 0.],\n",
              "       [0., 0., 0., 0., 1.],\n",
              "       [0., 0., 0., 1., 0.],\n",
              "       [0., 0., 1., 0., 0.]])"
            ]
          },
          "metadata": {
            "tags": []
          },
          "execution_count": 157
        }
      ]
    },
    {
      "cell_type": "markdown",
      "metadata": {
        "id": "YmeIDy2fZxw0"
      },
      "source": [
        "Run the following cell to check your implementation, you must see 'all checks pass!' message"
      ]
    },
    {
      "cell_type": "code",
      "metadata": {
        "id": "CGmylzqIM-hd",
        "colab": {
          "base_uri": "https://localhost:8080/",
          "height": 351
        },
        "outputId": "8a4a0313-78d8-4853-af35-1cc74b26e4a2"
      },
      "source": [
        "def check_one_hot(x, y):\n",
        "  C = y.shape[1]\n",
        "  for i, n in enumerate(x):\n",
        "    if n >= C: return False\n",
        "    for j in range(C):\n",
        "      expected = 1.0 if j == n else 0.0\n",
        "      if y[i, j].item() != expected: return False\n",
        "  return True\n",
        "      \n",
        "x0 = [1, 4, 3, 2]\n",
        "y0 = make_one_hot(x0)\n",
        "print('Here is y0:')\n",
        "print(y0)\n",
        "assert check_one_hot(x0, y0), 'y0 is wrong'\n",
        "\n",
        "x1 = np.array([1, 3, 5, 7, 6, 2])\n",
        "y1 = make_one_hot(x1)\n",
        "print('\\nHere is y1:')\n",
        "print(y1)\n",
        "assert check_one_hot(x1, y1), 'y1 is wrong'\n",
        "\n",
        "print('all checks pass!')"
      ],
      "execution_count": null,
      "outputs": [
        {
          "output_type": "error",
          "ename": "AttributeError",
          "evalue": "ignored",
          "traceback": [
            "\u001b[0;31m---------------------------------------------------------------------------\u001b[0m",
            "\u001b[0;31mAttributeError\u001b[0m                            Traceback (most recent call last)",
            "\u001b[0;32m<ipython-input-160-35477e2809c8>\u001b[0m in \u001b[0;36m<module>\u001b[0;34m()\u001b[0m\n\u001b[1;32m      9\u001b[0m \u001b[0;34m\u001b[0m\u001b[0m\n\u001b[1;32m     10\u001b[0m \u001b[0mx0\u001b[0m \u001b[0;34m=\u001b[0m \u001b[0;34m[\u001b[0m\u001b[0;36m1\u001b[0m\u001b[0;34m,\u001b[0m \u001b[0;36m4\u001b[0m\u001b[0;34m,\u001b[0m \u001b[0;36m3\u001b[0m\u001b[0;34m,\u001b[0m \u001b[0;36m2\u001b[0m\u001b[0;34m]\u001b[0m\u001b[0;34m\u001b[0m\u001b[0;34m\u001b[0m\u001b[0m\n\u001b[0;32m---> 11\u001b[0;31m \u001b[0my0\u001b[0m \u001b[0;34m=\u001b[0m \u001b[0mmake_one_hot\u001b[0m\u001b[0;34m(\u001b[0m\u001b[0mx0\u001b[0m\u001b[0;34m)\u001b[0m\u001b[0;34m\u001b[0m\u001b[0;34m\u001b[0m\u001b[0m\n\u001b[0m\u001b[1;32m     12\u001b[0m \u001b[0mprint\u001b[0m\u001b[0;34m(\u001b[0m\u001b[0;34m'Here is y0:'\u001b[0m\u001b[0;34m)\u001b[0m\u001b[0;34m\u001b[0m\u001b[0;34m\u001b[0m\u001b[0m\n\u001b[1;32m     13\u001b[0m \u001b[0mprint\u001b[0m\u001b[0;34m(\u001b[0m\u001b[0my0\u001b[0m\u001b[0;34m)\u001b[0m\u001b[0;34m\u001b[0m\u001b[0;34m\u001b[0m\u001b[0m\n",
            "\u001b[0;32m<ipython-input-152-6289b13e1e56>\u001b[0m in \u001b[0;36mmake_one_hot\u001b[0;34m(x)\u001b[0m\n\u001b[1;32m      3\u001b[0m \u001b[0;31m################################################################################\u001b[0m\u001b[0;34m\u001b[0m\u001b[0;34m\u001b[0m\u001b[0;34m\u001b[0m\u001b[0m\n\u001b[1;32m      4\u001b[0m \u001b[0;32mdef\u001b[0m \u001b[0mmake_one_hot\u001b[0m\u001b[0;34m(\u001b[0m\u001b[0mx\u001b[0m\u001b[0;34m)\u001b[0m\u001b[0;34m:\u001b[0m\u001b[0;34m\u001b[0m\u001b[0;34m\u001b[0m\u001b[0m\n\u001b[0;32m----> 5\u001b[0;31m  \u001b[0mH\u001b[0m \u001b[0;34m=\u001b[0m \u001b[0mnp\u001b[0m\u001b[0;34m.\u001b[0m\u001b[0mzeros\u001b[0m\u001b[0;34m(\u001b[0m\u001b[0;34m(\u001b[0m\u001b[0mx\u001b[0m\u001b[0;34m.\u001b[0m\u001b[0msize\u001b[0m\u001b[0;34m,\u001b[0m \u001b[0mx\u001b[0m\u001b[0;34m.\u001b[0m\u001b[0msize\u001b[0m\u001b[0;34m+\u001b[0m\u001b[0;36m1\u001b[0m\u001b[0;34m)\u001b[0m\u001b[0;34m)\u001b[0m\u001b[0;34m\u001b[0m\u001b[0;34m\u001b[0m\u001b[0m\n\u001b[0m\u001b[1;32m      6\u001b[0m  \u001b[0mH\u001b[0m\u001b[0;34m[\u001b[0m\u001b[0mnp\u001b[0m\u001b[0;34m.\u001b[0m\u001b[0marange\u001b[0m\u001b[0;34m(\u001b[0m\u001b[0mx\u001b[0m\u001b[0;34m.\u001b[0m\u001b[0msize\u001b[0m\u001b[0;34m)\u001b[0m\u001b[0;34m,\u001b[0m\u001b[0mx\u001b[0m\u001b[0;34m]\u001b[0m \u001b[0;34m=\u001b[0m \u001b[0;36m1\u001b[0m\u001b[0;34m\u001b[0m\u001b[0;34m\u001b[0m\u001b[0m\n\u001b[1;32m      7\u001b[0m  \u001b[0;32mreturn\u001b[0m \u001b[0mH\u001b[0m\u001b[0;34m\u001b[0m\u001b[0;34m\u001b[0m\u001b[0m\n",
            "\u001b[0;31mAttributeError\u001b[0m: 'list' object has no attribute 'size'"
          ]
        }
      ]
    },
    {
      "cell_type": "markdown",
      "metadata": {
        "id": "oEwW4WoiJI3Q"
      },
      "source": [
        "\n",
        "\n",
        "---\n",
        "\n",
        "\n",
        "\n",
        "---\n",
        "\n",
        "\n",
        "\n",
        "---\n",
        "\n"
      ]
    },
    {
      "cell_type": "markdown",
      "metadata": {
        "id": "RQKJ1ge2uCyC"
      },
      "source": [
        "# Exercise B:\n",
        "\n",
        "### Maximum Likelihood\n",
        "Find the maximum likelihood estimation of parameters $\\boldsymbol\\theta$.\n",
        "\n",
        "Given:\n",
        "\n",
        "$$\n",
        "\\boldsymbol X \\in\\mathbb{R}^{N\\times D} \\quad \\boldsymbol y  \\in\\mathbb{R}^N\n",
        "$$\n",
        "\n",
        "Steps to follow:\n",
        "\n",
        "\n",
        "1.   Initialize Ndarray **X** from a normal distribution with shapes: N = 10 and D = 5.\n",
        "2.   Initialize Ndarray **y** with all ones with shape N = 10 and reshape it to have the shape (N, 1).\n",
        "3.   Compute the maximum likelihood estimation of parameters $\\boldsymbol\\theta$ following the equation and assign it to a variable called **theta**\n",
        "\n",
        "$$\n",
        "\\boldsymbol\\theta = (\\boldsymbol X^T\\boldsymbol X)^{-1}\\boldsymbol X^T\\boldsymbol y\\in\\mathbb{R}^D\n",
        "$$\n",
        "\n",
        "4. print the value of **theta**\n",
        "\n",
        "Hint: check the inverse method from the linear algebra module in Numpy"
      ]
    },
    {
      "cell_type": "code",
      "metadata": {
        "id": "rxshu5NIuBva",
        "colab": {
          "base_uri": "https://localhost:8080/"
        },
        "outputId": "663eb4c8-e835-4298-e7bb-1754eda03de5"
      },
      "source": [
        "################################################################################\n",
        "# TODO: Compute the maximum likelihood estimation of parameters theta\n",
        "#       following the equation\n",
        "################################################################################\n",
        "X=np.random.randn(10,5)\n",
        "y=np.ones(10).reshape(10,1)\n",
        "theta=(np.linalg.inv(((X.T)@(X))))@X.T@y\n",
        "print(theta)\n",
        "#your code should be here\n",
        "\n",
        " \n",
        "################################################################################\n",
        "#                              END OF YOUR CODE                                #\n",
        "################################################################################"
      ],
      "execution_count": null,
      "outputs": [
        {
          "output_type": "stream",
          "text": [
            "[[-0.50820658]\n",
            " [-0.4957879 ]\n",
            " [-0.06824076]\n",
            " [-0.18210727]\n",
            " [ 0.31196509]]\n"
          ],
          "name": "stdout"
        }
      ]
    },
    {
      "cell_type": "markdown",
      "metadata": {
        "id": "3wzi6tdVzPwt"
      },
      "source": [
        "\n",
        "\n",
        "---\n",
        "\n",
        "\n",
        "\n",
        "---\n",
        "\n",
        "\n",
        "\n",
        "---\n",
        "\n"
      ]
    },
    {
      "cell_type": "markdown",
      "metadata": {
        "id": "ty0GckhNlpwf"
      },
      "source": [
        "# Exercise B:\n",
        "\n",
        "### The Log Likelihood\n",
        "\n",
        "Find the log likelihood estimation for input X, label y, parameterized by $\\boldsymbol\\theta$.\n",
        "\n",
        "Given:\n",
        "\n",
        "$$\n",
        "\\boldsymbol X \\in\\mathbb{R}^{N\\times D} \\quad \\boldsymbol y  \\in\\mathbb{R}^N \\quad \\boldsymbol \\theta  \\in\\mathbb{R}^D\n",
        "$$\n",
        "\n",
        "steps to follow:\n",
        "\n",
        "1.   Initialize Ndarray **X** from a normal distribution with shapes: N = 10 and D = 5.\n",
        "2.   Initialize Ndarray **y** with all ones with shape N = 10 and reshape it to have the shape (N, 1).\n",
        "3.   Initialize Ndarray **theta** randomly with shape D = 5 and reshape it to have the shape (D, 1).\n",
        "4.   Compute the the probability of a all data points $(\\boldsymbol x, y)$ being of class 1, given by\n",
        "\n",
        "$$p(y = 1 | \\boldsymbol X, \\boldsymbol\\theta) = 1.0/(1.0+\\exp(- \\boldsymbol X \\boldsymbol \\theta))$$\n",
        "\n",
        "5. compute the log Likelihood, given by:\n",
        "$$\\log p(\\boldsymbol y|\\boldsymbol X, \\boldsymbol\\theta) = \\sum_i y_i * \\log (p(y = 1 | \\boldsymbol x, \\boldsymbol\\theta) + (1 - y_i) * \\log ( 1 - p(y = 1 | \\boldsymbol x, \\boldsymbol\\theta))$$\n",
        "\n",
        "6. print the log Likelihood"
      ]
    },
    {
      "cell_type": "code",
      "metadata": {
        "id": "5sm7MTZcoAmH",
        "colab": {
          "base_uri": "https://localhost:8080/"
        },
        "outputId": "cbb93d67-5603-4f71-bbf4-c4156497a950"
      },
      "source": [
        "################################################################################\n",
        "# TODO: Compute the log likelihood \n",
        "#    \n",
        "################################################################################\n",
        "\n",
        "\n",
        "#your code should be here\n",
        "\n",
        "X = np.random.randn(10, 5)\n",
        "y = np.ones((10,1))\n",
        "theta = np.random.random((5, 1))\n",
        "\n",
        "p = 1.0/(1 + np.exp(-X @ theta))\n",
        "LOG_p = np.sum(y*np.log(p) + (1 - y)*np.log(1 - p))\n",
        "\n",
        "print(LOG_p)\n",
        " \n",
        "################################################################################\n",
        "#                              END OF YOUR CODE                                #\n",
        "################################################################################"
      ],
      "execution_count": null,
      "outputs": [
        {
          "output_type": "stream",
          "text": [
            "-5.8491831776782615\n"
          ],
          "name": "stdout"
        }
      ]
    },
    {
      "cell_type": "code",
      "metadata": {
        "id": "VT5lPLJ4YL4F"
      },
      "source": [
        ""
      ],
      "execution_count": null,
      "outputs": []
    }
  ]
}